{
 "cells": [
  {
   "cell_type": "markdown",
   "metadata": {},
   "source": [
    "Let us consider $y = \\theta^T z + \\epsilon, z_i \\sim N(m, \\sigma^2), \\epsilon \\sim N(0, \\sigma_\\epsilon^2)$. <br>\n",
    "We observe $x_i \\sim N(z_i, \\sigma_z^2)$. We estimate y using the maximum likelihood estimation as a linear function of x. Derive the quadratic risk for such estimate. Investigate, does layer norm among dimensions of x improves the risk theoretically or experimentally"
   ]
  },
  {
   "cell_type": "markdown",
   "metadata": {},
   "source": [
    "$$ p(y|x) = \\int p(y,z |x)dz = \\int p(y|z,x) p(z|x) dz $$\n",
    "$$ p(z|x) = \\frac{p(x|z)p(z)}{p(x)} $$\n",
    "$$ \\argmax_y{p(y|x)} = \\argmax_y{\\int p(y|z,x) p(x|z)p(z) dz} $$\n",
    "$$ y = \\theta^T z + \\epsilon \\Rightarrow \\epsilon = y - \\theta^T z \\Rightarrow p(y|z,x) = \\mathcal{N}(y - \\theta^Tz|0, \\sigma^2_\\epsilon)$$\n",
    "$$ p(x|z) = \\prod_i \\mathcal{N}(x_i | z_i, \\sigma^2_z) $$\n",
    "$$ p(z) = \\prod_i \\mathcal{N}(z_i | m, \\sigma^2)$$\n",
    "From the conjugancy:\n",
    "$$p(z|x) =  \\prod_i  \\mathcal{N}\\left(z_i \\bigg| x_i + m, \\frac{\\sigma^2_z \\sigma^2}{\\sigma^2 + \\sigma^2_z}\\right)$$\n",
    "$$ \\argmax_y{p(y|x)} = \\argmax_y{\\int \\mathcal{N}(y - \\theta^Tz|0, \\sigma^2_\\epsilon) \\prod_i  \\mathcal{N}\\left(z_i \\bigg| x_i + m, \\frac{\\sigma^2_z \\sigma^2}{\\sigma^2 + \\sigma^2_z}\\right) dz_i} $$\n",
    "Define $\\mu_i = x_i + m$ and $\\sigma_0^2 = \\frac{\\sigma^2_z \\sigma^2}{\\sigma^2 + \\sigma^2_z}$\n",
    "\n"
   ]
  },
  {
   "cell_type": "markdown",
   "metadata": {},
   "source": [
    "$$ \\mathcal{N}(y - \\theta^Tz|0, \\sigma^2_\\epsilon) \\prod_i  \\mathcal{N}\\left(z_i \\bigg| x_i + m, \\frac{\\sigma^2_z \\sigma^2}{\\sigma^2 + \\sigma^2_z}\\right) \\propto \\exp \\left( -\\frac{1}{2} \\left( \\frac{(y-\\theta^Tz)^2}{\\sigma^2_\\epsilon} + \\sum_i \\frac{(z_i - \\mu_i)^2}{\\sigma^2_0} \\right)\\right) $$\n",
    "$$ \\sum_i \\frac{(z_i - \\mu_i)^2}{\\sigma^2_0} = \\frac{(z - \\mu)^T (z - \\mu)}{\\sigma^2_0} = \\frac{z^Tz - 2z^T \\mu + \\mu^T \\mu}{\\sigma^2_0}$$\n",
    "$$ \\frac{(y-\\theta^Tz)^2}{\\sigma^2_\\epsilon} = \\frac{y^2 - 2y \\theta^Tz + (\\theta^Tz)^2}{\\sigma_\\epsilon^2}$$\n",
    "$$ \\frac{y^2 - 2y \\theta^Tz + (\\theta^Tz)^2}{\\sigma_\\epsilon^2} + \\frac{z^Tz - 2z^T \\mu + \\mu^T \\mu}{\\sigma^2_0} = z^T \\left( \\frac{1}{\\sigma_0^2} + \\frac{\\theta \\theta^T}{\\sigma_\\epsilon^2} \\right) z  -2 \\left( y\\frac{\\theta^T}{\\sigma_0^2} + \\frac{\\mu^T}{\\sigma^2_\\epsilon} \\right) z + \\frac{y^2}{\\sigma_\\epsilon^2} + \\frac{\\mu^T\\mu}{\\sigma_0^2}$$\n",
    "We can introduce symmetric positive-definite matrix $D$:\n",
    "$$ D = \\left( \\frac{1}{\\sigma_0^2} + \\frac{\\theta \\theta^T}{\\sigma_\\epsilon^2} \\right) \\rightarrow z^T \\left( \\frac{1}{\\sigma_0^2} + \\frac{\\theta \\theta^T}{\\sigma_\\epsilon^2} \\right) z = z^T D z$$\n",
    "Let's also denote:\n",
    "$$ v^T = \\left( y\\frac{\\theta^T}{\\sigma_0^2} + \\frac{\\mu^T}{\\sigma^2_\\epsilon} \\right) $$\n",
    "Then\n",
    "$$ \\exp \\left( -\\frac{1}{2} \\left( \\frac{(y-\\theta^Tz)^2}{\\sigma^2_\\epsilon} + \\sum_i \\frac{(z_i - \\mu_i)^2}{\\sigma^2_0} \\right)\\right) = \\exp \\left(-\\frac{1}{2} \\left(z^T D z - 2v^Tz + \\frac{y^2}{\\sigma_\\epsilon^2} + \\frac{\\mu^T\\mu}{\\sigma_0^2}\\right)\\right)$$\n",
    "Since $D$ is symmetric positive-definite $D^{1/2}$, $D^{-1/2}$ are correctly definied and $D^T = D$, $(D^{1/2})^T = D^{1/2}$.\n",
    "$$ \\exp \\left( z^T D z - 2v^Tz\\right) = \\exp \\left( (D^{1/2}z - D^{-1/2}v)^2 - v^TD^{-1}v\\right) $$\n",
    "$$\\int \\mathcal{N}(y - \\theta^Tz|0, \\sigma^2_\\epsilon) \\prod_i  \\mathcal{N}\\left(z_i \\bigg| x_i + m, \\frac{\\sigma^2_z \\sigma^2}{\\sigma^2 + \\sigma^2_z}\\right) dz_i \\propto \\exp\\left( -\\frac{y^2}{2\\sigma_\\epsilon^2} + \\frac{1}{2} v^TD^{-1}v \\right)\\int \\exp \\left( -\\frac{1}{2}(D^{1/2}z - D^{-1/2}v)^2 \\right) dz$$\n",
    "Everywhere we used $\\propto$ we omitted the terms that do not containt $y$ or $z$ since we do not need them.\n",
    "$$ \\int \\exp \\left( -\\frac{1}{2}(D^{1/2}z - D^{-1/2}v)^2 \\right) dz \\overset{u = z - D^{-1}v}{=} \\int \\exp \\left( -\\frac{1}{2}(D^{1/2}u)^2 \\right) du$$\n",
    "As we can see, the integral doesn't actually depend on $y$. <br>\n",
    "So, we are left with:\n",
    "$$ \\hat{y} = \\argmax_y{\\int \\mathcal{N}(y - \\theta^Tz|0, \\sigma^2_\\epsilon) \\prod_i  \\mathcal{N}\\left(z_i \\bigg| x_i + m, \\frac{\\sigma^2_z \\sigma^2}{\\sigma^2 + \\sigma^2_z}\\right) dz_i} =  \\argmax_y{\\left[\\exp\\left( -\\frac{y^2}{2\\sigma_\\epsilon^2} + \\frac{1}{2} v^TD^{-1}v \\right)\\right]} = $$\n",
    "$$ = \\argmax_y{\\left( -\\frac{y^2}{\\sigma_\\epsilon^2} + v^TD^{-1}v \\right)}$$\n",
    "$$ \\frac{d}{dy} \\left(-\\frac{y^2}{\\sigma_\\epsilon^2} + v^TD^{-1}v\\right) = \\frac{-2y}{\\sigma_\\epsilon^2} + \\frac{2v^TD^{-1}\\theta}{\\sigma_0^2} = 0$$\n",
    "$$ \\hat{y} =  \\frac{\\sigma^2_\\epsilon}{\\sigma_0^2} v^TD^{-1}\\theta $$\n",
    "Notice:\n",
    "$$ D \\theta = \\left( \\frac{1}{\\sigma_0^2} + \\frac{\\theta \\theta^T}{\\sigma_\\epsilon^2} \\right) \\theta = \\left( \\frac{1}{\\sigma_0^2} + \\frac{\\theta^T \\theta}{\\sigma_\\epsilon^2} \\right) \\theta \\Rightarrow D^{-1}\\theta = \\left( \\frac{1}{\\sigma_0^2} + \\frac{\\theta^T \\theta}{\\sigma_\\epsilon^2} \\right)^{-1} \\theta $$\n",
    "$$\\hat{y} = \\frac{\\sigma^2_\\epsilon}{\\sigma_0^2} \\left( \\frac{1}{\\sigma_0^2} + \\frac{\\theta^T \\theta}{\\sigma_\\epsilon^2} \\right)^{-1} v^T \\theta $$\n",
    "$$ \\hat{y} = \\frac{\\sigma^2_\\epsilon}{\\sigma_0^2} \\left( \\frac{1}{\\sigma_0^2} + \\frac{\\theta^T \\theta}{\\sigma_\\epsilon^2} \\right)^{-1} \\left( \\hat{y}\\frac{\\theta^T\\theta}{\\sigma_0^2} + \\frac{\\mu^T\\theta}{\\sigma^2_\\epsilon} \\right)$$\n",
    "$$ \\left( \\frac{1}{\\sigma_0^2} + \\frac{\\theta^T \\theta}{\\sigma_\\epsilon^2} \\right) \\hat{y} = \\frac{\\sigma^2_\\epsilon}{\\sigma_0^2} \\left( \\hat{y} \\frac{\\theta^T\\theta}{\\sigma_0^2} + \\frac{\\mu^T\\theta}{\\sigma^2_\\epsilon} \\right)$$\n",
    "$$ \\left( \\frac{1}{\\sigma_0^2} + \\frac{\\theta^T \\theta}{\\sigma_\\epsilon^2} + \\frac{\\sigma^2_\\epsilon}{\\sigma_0^2} \\frac{\\theta^T\\theta}{\\sigma_0^2} \\right)\\hat{y} = \\frac{\\mu^T\\theta}{\\sigma^2_0} $$\n",
    "$$ \\left( 1 + \\theta^T \\theta \\left(\\frac{\\sigma_0^2}{\\sigma_\\epsilon^2} + \\frac{\\sigma^2_\\epsilon}{\\sigma_0^2} \\right) \\right)\\hat{y} = \\mu^T\\theta $$\n",
    "$$\\boxed{\\hat{y}_\\text{MLE} = \\frac{\\mu^T\\theta}{1 + \\theta^T \\theta \\left(\\frac{\\sigma_0^2}{\\sigma_\\epsilon^2} + \\frac{\\sigma^2_\\epsilon}{\\sigma_0^2} \\right)}, \\quad \\mu = x + m, \\;\\sigma_0^2 = \\frac{\\sigma^2_z \\sigma^2}{\\sigma^2 + \\sigma^2_z}} $$"
   ]
  },
  {
   "cell_type": "markdown",
   "metadata": {},
   "source": [
    "Quadratic risk $E[(y - \\hat{y})^2]$:\n",
    "$$E[(y - \\hat{y})^2] = E[(\\theta^Tz + \\epsilon - \\hat{y}^2)] = E[(\\theta^T - z)^2] + 2E[(\\theta^Tz - \\hat{y})\\epsilon] + E[\\epsilon^2]$$\n",
    "$$ E[\\epsilon^2] = \\sigma_\\epsilon^2$$\n",
    "$$ E[(\\theta^Tz - \\hat{y})\\epsilon] = E[(\\theta^Tz - \\hat{y})]E[\\epsilon] = 0$$\n",
    "$$ E[(y - \\hat{y})^2] = E[(\\theta^T z - \\hat{y})^2] + \\sigma_\\epsilon^2$$\n",
    "$$E[(\\theta^T z - \\hat{y})^2] = E[(\\theta^T z)^2 - 2\\theta^T z \\hat{y} + \\hat{y}^2)]$$\n",
    "$$ E[(\\theta^T z)^2] = \\sigma^2 \\sum_i \\theta_i^2 + m^2 \\sum_{i,j} \\theta_i \\theta_j $$\n",
    "In our case\n",
    "$$ \\hat{y} = \\alpha^T (x + m)$$\n",
    "$$ p(z, x) = p(x|z)p(z) = \\prod_i \\mathcal{N}(x_i | z_i, \\sigma^2_z) \\mathcal{N}(z_i | m, \\sigma^2)$$\n",
    "$$ E[\\theta^T z \\hat{y}] = E[(\\theta^T z)(\\alpha^T (x + m))] = \\int \\int (\\theta^T z)(\\alpha^T (x + m)) \\prod_i \\mathcal{N}(x_i | z_i, \\sigma^2_z) \\mathcal{N}(z_i | m, \\sigma^2) dx_i dz_i =$$\n",
    "$$= \\int (\\theta^T z)(\\alpha^T (z + m)) \\prod_i \\mathcal{N}(z_i | m, \\sigma^2) dz_i = \\sum_i \\theta_i \\alpha_i E[z_i^2] +  \\sum\\limits_{\\substack{i,j \\\\ i\\neq j}} \\theta_i \\alpha_j E[z_i z_j] + m^2 \\sum_{i,j} \\alpha_i \\theta_j= \\sum_i \\theta_i \\alpha_i (m^2 + \\sigma^2) + \\sum\\limits_{\\substack{i,j \\\\ i\\neq j}} \\theta_i \\alpha_j m^2 + m^2 \\sum_{i,j} \\alpha_i \\theta_j = 2m^2 \\sum_{i, j}\\alpha_i \\theta_j + \\sigma^2 \\sum_{i} \\alpha_i \\theta_i$$\n",
    "$$E[\\hat{y}^2] = E[(\\alpha^T (x + m))^2] = \\sigma_z^2 \\sum_i \\alpha_i^2 + \\sum_{i,j} m^2 \\alpha_i \\alpha_j + 3 m^2 \\sum_{i,j} \\alpha_i \\alpha_j = \\sigma_z^2 \\sum_i \\alpha_i^2 + 4 m^2 \\sum_{i,j} \\alpha_i \\alpha_j$$\n",
    "Finally, \n",
    "$$E[(y - \\hat{y})^2] = \\sigma^2 \\sum_i \\theta_i^2 + m^2 \\sum_{i,j} \\theta_i \\theta_j  - 2\\left(2 m^2 \\sum_{i, j}\\alpha_i \\theta_j + \\sigma^2 \\sum_{i} \\alpha_i \\theta_i\\right) + \\sigma_z^2 \\sum_i \\alpha_i^2 + 4m^2\\sum_{i,j} \\alpha_i \\alpha_j + \\sigma^2_\\epsilon$$\n",
    "\n",
    "For MLE estimate we just have to plug in $\\alpha_i = \\frac{\\theta_i}{1 + \\theta^T \\theta \\left(\\frac{\\sigma_0^2}{\\sigma_\\epsilon^2} - \\frac{\\sigma^2_\\epsilon}{\\sigma_0^2} \\right)}$"
   ]
  },
  {
   "cell_type": "markdown",
   "metadata": {},
   "source": [
    "### Experiments"
   ]
  },
  {
   "cell_type": "markdown",
   "metadata": {},
   "source": [
    "Here we consider the data generated in the described above manner. We split it into train/test and then train 2 models (1 linear layer) in supervised manner - one with the layer norm applied to the input and 1 without. We then compare their performance on both train and test set. We use MSELoss as a loss function and as a target metric (because it is an estimate for the quadratic risk). We average loss across all observations. <br>\n",
    "We use layer norm without any trainable parameters (elementwise_affine=False) since it should not affect our linear prediction.  \n",
    "In every experiment we set $\\sigma_z = 0.8$."
   ]
  },
  {
   "cell_type": "code",
   "execution_count": 252,
   "metadata": {},
   "outputs": [],
   "source": [
    "import numpy as np\n",
    "from sklearn.model_selection import train_test_split\n",
    "import torch\n",
    "from torch.utils.data import Dataset\n",
    "import torch.nn as nn\n",
    "from torch.utils.data import DataLoader\n",
    "from tqdm import tqdm\n",
    "from torch.optim import SGD\n",
    "import matplotlib.pyplot as plt\n",
    "import warnings\n",
    "\n",
    "warnings.filterwarnings(\"ignore\")"
   ]
  },
  {
   "cell_type": "code",
   "execution_count": 285,
   "metadata": {},
   "outputs": [],
   "source": [
    "DIM = 10\n",
    "SIZE = 100_000"
   ]
  },
  {
   "cell_type": "code",
   "execution_count": 199,
   "metadata": {},
   "outputs": [],
   "source": [
    "def generate_data(m, sigma, sigma_z, n=DIM, size=SIZE):\n",
    "    \"\"\"\n",
    "    Generate data according to the problem description. (see above)\n",
    " \n",
    "    Parameters\n",
    "    ----------\n",
    "    m : int\n",
    "        Mean for z sampling.\n",
    "    sigma : float\n",
    "        Standard deviation for z sampling.\n",
    "    sigma_z : float\n",
    "        Standard deviation for x sampling\n",
    "    n : int\n",
    "        The dimension\n",
    "    size : int\n",
    "        Size of the dataset.\n",
    "\n",
    "    Returns\n",
    "    -------\n",
    "    X : np.ndarray\n",
    "    Y : np.ndarray\n",
    "    meta : dict\n",
    "        Metainformation containing (theta, z)\n",
    "    \"\"\"\n",
    "\n",
    "    X, Y = [], []\n",
    "    meta = {}\n",
    "    theta = np.random.uniform(-10, 10, n)\n",
    "    meta['theta'] = theta\n",
    "    meta['z'] = []\n",
    "    \n",
    "    for _ in range(size):\n",
    "        z = np.random.normal(loc=m, scale=sigma ** 2, size=n)\n",
    "        noise = np.random.normal()\n",
    "        y = theta.T @ z + noise\n",
    "\n",
    "        x = np.random.normal(loc=z, scale=sigma_z ** 2)\n",
    "\n",
    "        X += [x]\n",
    "        Y += [y]\n",
    "        meta['z'] += [z]\n",
    "\n",
    "    return np.array(X), np.array(Y), meta\n"
   ]
  },
  {
   "cell_type": "code",
   "execution_count": 119,
   "metadata": {},
   "outputs": [],
   "source": [
    "class Data(Dataset):\n",
    "    def __init__(self, X, y):\n",
    "        self.X = X\n",
    "        self.y = y\n",
    "\n",
    "    def __len__(self):\n",
    "        return len(self.y)\n",
    "\n",
    "    def __getitem__(self, idx):\n",
    "        return torch.tensor(self.X[idx], dtype=torch.float), torch.tensor(self.y[idx], dtype=torch.float)"
   ]
  },
  {
   "cell_type": "code",
   "execution_count": 254,
   "metadata": {},
   "outputs": [],
   "source": [
    "def train(model, train_dataloader, val_dataloader, loss_fn, optimizer, n_epochs=300):\n",
    "    train_loss = []\n",
    "    val_loss = []\n",
    "    for _ in tqdm(range(n_epochs), colour='CYAN'):\n",
    "        model.train()\n",
    "        total_loss = 0.\n",
    "        total_cnt = 0\n",
    "        for data in train_dataloader:\n",
    "            inputs, labels = data\n",
    "            optimizer.zero_grad()\n",
    "            outputs = model(inputs)\n",
    "            loss = loss_fn(outputs, labels)\n",
    "            loss.backward()\n",
    "\n",
    "            optimizer.step()\n",
    "\n",
    "            total_cnt += labels.shape[0]\n",
    "            total_loss += loss.item() * labels.shape[0]\n",
    "\n",
    "        train_loss.append(total_loss / total_cnt)\n",
    "\n",
    "        model.eval()\n",
    "        total_loss = 0.\n",
    "        total_cnt = 0\n",
    "        with torch.no_grad():\n",
    "            for vdata in val_dataloader:\n",
    "                vinputs, vlabels = vdata\n",
    "                voutputs = model(vinputs)\n",
    "                vloss = loss_fn(voutputs, vlabels)\n",
    "                total_cnt += labels.shape[0]\n",
    "                total_loss += vloss.item() * labels.shape[0]\n",
    "        \n",
    "        val_loss.append(total_loss / total_cnt)\n",
    "\n",
    "        if _ % 10 == 0:\n",
    "            tqdm.write('LOSS: train {}, validation {}'.format(train_loss[-1], val_loss[-1]))\n",
    "        \n",
    "        if _ > 5 and (max(val_loss[-5:]) - min(val_loss[-5:])) < 0.01: # if loss doesn't change over the last 5 epochs we stop\n",
    "            train_loss += [train_loss[-1]] * (n_epochs - len(train_loss))\n",
    "            val_loss += [val_loss[-1]] * (n_epochs - len(val_loss))\n",
    "            return train_loss, val_loss\n",
    "\n",
    "    return train_loss, val_loss"
   ]
  },
  {
   "cell_type": "code",
   "execution_count": 265,
   "metadata": {},
   "outputs": [],
   "source": [
    "def compare(m, sigma, sigma_z, test_size=0.2, batch_size=1024, lr=3e-3, n_epochs=300):\n",
    "    \"\"\"\n",
    "        Generate data and then compare models with and without Layer Norm.\n",
    "    \n",
    "        Parameters\n",
    "        ----------\n",
    "        m : int\n",
    "            Mean for z sampling.\n",
    "        sigma : float\n",
    "            Standard deviation for z sampling.\n",
    "        sigma_z : float\n",
    "            Standard deviation for x sampling\n",
    "        test_size : float\n",
    "            What part use for testing.\n",
    "\n",
    "        Returns\n",
    "        -------\n",
    "        tr : list:\n",
    "            Average loss on every epoch for the train data for the model without layer norm.\n",
    "        tst : list:\n",
    "            Average loss on every epoch for the test data for the model without layer norm.\n",
    "        tr_n : list:\n",
    "            Average loss on every epoch for the train data for the model with layer norm.\n",
    "        tst_n : list:\n",
    "            Average loss on every epoch for the test data for the model with layer norm.\n",
    "        \n",
    "    \"\"\"\n",
    "    X, y, meta = generate_data(m, sigma, sigma_z)\n",
    "    X_train, X_test, y_train, y_test = train_test_split(\n",
    "        X, y, test_size=test_size\n",
    "    )\n",
    "\n",
    "    train_dataset = Data(X_train, y_train)\n",
    "    test_dataset = Data(X_test, y_test)\n",
    "\n",
    "    train_dataloader = DataLoader(train_dataset, batch_size=batch_size)\n",
    "    test_dataloader = DataLoader(test_dataset, batch_size=batch_size)\n",
    "\n",
    "    model_base = nn.Sequential(\n",
    "    nn.Linear(DIM, 1)\n",
    "    )\n",
    "\n",
    "    model_norm = nn.Sequential(\n",
    "        nn.LayerNorm(DIM, elementwise_affine=False),\n",
    "        nn.Linear(DIM, 1)\n",
    "    )\n",
    "\n",
    "    optimizer = SGD(model_base.parameters(), lr=lr)\n",
    "    tr, tst = train(model_base, train_dataloader, test_dataloader, nn.MSELoss(), optimizer, n_epochs=n_epochs)\n",
    "\n",
    "    print('Switching models')\n",
    "\n",
    "    optimizer_n = SGD(model_norm.parameters(), lr=lr)\n",
    "    tr_n, tst_n = train(model_norm, train_dataloader, test_dataloader, nn.MSELoss(), optimizer_n, n_epochs=n_epochs)\n",
    "\n",
    "    return tr, tst, tr_n, tst_n"
   ]
  },
  {
   "cell_type": "code",
   "execution_count": 260,
   "metadata": {},
   "outputs": [],
   "source": [
    "def plot_results(tr, tst, tr_n, tst_n, skip_first=0):\n",
    "    \"\"\"\n",
    "        Plot the results of experiments.\n",
    "\n",
    "        Parameters\n",
    "        ----------\n",
    "        skip_first : int\n",
    "        How many first observations to skip. (Inititally loss is very big and it makes it hard to notice any difference between experiments)\n",
    "    \"\"\"\n",
    "    plt.plot(tr_n[skip_first:], label='train_w_layer_norm')\n",
    "    plt.plot(tst_n[skip_first:], label='test_w_layer_norm')\n",
    "    plt.plot(tr[skip_first:], label='train_wo_norm')\n",
    "    plt.plot(tst[skip_first:], label='test_wo_norm')\n",
    "    plt.legend()\n",
    "    print('Final loss on train:')\n",
    "    print(f'With layer_norm {tr_n[-1]}, without {tr[-1]}')\n",
    "    print('-' * 50)\n",
    "    print('Final loss on test:')\n",
    "    print(f'With layer_norm {tst_n[-1]}, without {tst[-1]}')"
   ]
  },
  {
   "cell_type": "markdown",
   "metadata": {},
   "source": [
    "Qualitatively there are 3 main regimes for $\\sigma$ and $m$:<br>\n",
    "1) $m \\sim \\sigma$\n",
    "2) $m \\gg \\sigma$\n",
    "3) $m \\ll \\sigma$ <br>\n",
    "\n",
    "Bellow we will provide multiple experiments for each regime and analyze them. "
   ]
  },
  {
   "cell_type": "markdown",
   "metadata": {},
   "source": [
    "### $m \\sim \\sigma$"
   ]
  },
  {
   "cell_type": "code",
   "execution_count": 261,
   "metadata": {},
   "outputs": [
    {
     "name": "stderr",
     "output_type": "stream",
     "text": [
      "  0%|\u001b[36m          \u001b[0m| 1/300 [00:00<03:34,  1.39it/s]"
     ]
    },
    {
     "name": "stdout",
     "output_type": "stream",
     "text": [
      "LOSS: train 21.385495846557617, validation 20.560294151306152\n"
     ]
    },
    {
     "name": "stderr",
     "output_type": "stream",
     "text": [
      "  4%|\u001b[36m▎         \u001b[0m| 11/300 [00:07<03:14,  1.49it/s]"
     ]
    },
    {
     "name": "stdout",
     "output_type": "stream",
     "text": [
      "LOSS: train 20.51450057373047, validation 20.40066452026367\n"
     ]
    },
    {
     "name": "stderr",
     "output_type": "stream",
     "text": [
      "  5%|\u001b[36m▍         \u001b[0m| 14/300 [00:10<03:25,  1.39it/s]\n",
      "  0%|\u001b[36m          \u001b[0m| 1/300 [00:00<03:37,  1.38it/s]"
     ]
    },
    {
     "name": "stdout",
     "output_type": "stream",
     "text": [
      "LOSS: train 21.757685803222657, validation 21.045360946655272\n"
     ]
    },
    {
     "name": "stderr",
     "output_type": "stream",
     "text": [
      "  3%|\u001b[36m▎         \u001b[0m| 8/300 [00:06<03:41,  1.32it/s]"
     ]
    },
    {
     "name": "stdout",
     "output_type": "stream",
     "text": [
      "Final loss on train:\n",
      "With layer_norm 20.485507623291017, without 20.50311923828125\n",
      "--------------------------------------------------\n",
      "Final loss on test:\n",
      "With layer_norm 20.376265907287596, without 20.39121046066284\n"
     ]
    },
    {
     "name": "stderr",
     "output_type": "stream",
     "text": [
      "\n"
     ]
    },
    {
     "data": {
      "image/png": "[encoded data removed]",
      "text/plain": [
       "<Figure size 640x480 with 1 Axes>"
      ]
     },
     "metadata": {},
     "output_type": "display_data"
    }
   ],
   "source": [
    "m = 0.5\n",
    "sigma = 0.5\n",
    "tr, tst, tr_n, tst_n = compare(m, sigma, 0.8)\n",
    "\n",
    "plt.title(f'$\\sigma \\sim m$, m={m}, $\\sigma$={sigma}')\n",
    "plot_results(tr, tst, tr_n, tst_n, skip_first=6)"
   ]
  },
  {
   "cell_type": "code",
   "execution_count": 263,
   "metadata": {},
   "outputs": [
    {
     "name": "stderr",
     "output_type": "stream",
     "text": [
      "  1%|\u001b[36m          \u001b[0m| 1/100 [00:00<01:18,  1.25it/s]"
     ]
    },
    {
     "name": "stdout",
     "output_type": "stream",
     "text": [
      "LOSS: train 2422.436710546875, validation 2388.9999389648438\n"
     ]
    },
    {
     "name": "stderr",
     "output_type": "stream",
     "text": [
      " 11%|\u001b[36m█         \u001b[0m| 11/100 [00:07<01:01,  1.44it/s]"
     ]
    },
    {
     "name": "stdout",
     "output_type": "stream",
     "text": [
      "LOSS: train 2398.974801171875, validation 2372.1329345703125\n"
     ]
    },
    {
     "name": "stderr",
     "output_type": "stream",
     "text": [
      " 21%|\u001b[36m██        \u001b[0m| 21/100 [00:14<00:55,  1.42it/s]"
     ]
    },
    {
     "name": "stdout",
     "output_type": "stream",
     "text": [
      "LOSS: train 2393.095640625, validation 2366.749658203125\n"
     ]
    },
    {
     "name": "stderr",
     "output_type": "stream",
     "text": [
      " 31%|\u001b[36m███       \u001b[0m| 31/100 [00:21<00:48,  1.42it/s]"
     ]
    },
    {
     "name": "stdout",
     "output_type": "stream",
     "text": [
      "LOSS: train 2391.176432421875, validation 2365.0564453125\n"
     ]
    },
    {
     "name": "stderr",
     "output_type": "stream",
     "text": [
      " 41%|\u001b[36m████      \u001b[0m| 41/100 [00:28<00:41,  1.42it/s]"
     ]
    },
    {
     "name": "stdout",
     "output_type": "stream",
     "text": [
      "LOSS: train 2390.54853515625, validation 2364.5388793945312\n"
     ]
    },
    {
     "name": "stderr",
     "output_type": "stream",
     "text": [
      " 51%|\u001b[36m█████     \u001b[0m| 51/100 [00:36<00:37,  1.31it/s]"
     ]
    },
    {
     "name": "stdout",
     "output_type": "stream",
     "text": [
      "LOSS: train 2390.342294921875, validation 2364.3895629882813\n"
     ]
    },
    {
     "name": "stderr",
     "output_type": "stream",
     "text": [
      " 60%|\u001b[36m██████    \u001b[0m| 60/100 [00:43<00:29,  1.38it/s]\n"
     ]
    },
    {
     "name": "stdout",
     "output_type": "stream",
     "text": [
      "LOSS: train 2390.274109375, validation 2364.3518798828127\n"
     ]
    },
    {
     "name": "stderr",
     "output_type": "stream",
     "text": [
      "  1%|\u001b[36m          \u001b[0m| 1/100 [00:00<01:19,  1.25it/s]"
     ]
    },
    {
     "name": "stdout",
     "output_type": "stream",
     "text": [
      "LOSS: train 2546.203927734375, validation 2450.178259277344\n"
     ]
    },
    {
     "name": "stderr",
     "output_type": "stream",
     "text": [
      " 11%|\u001b[36m█         \u001b[0m| 11/100 [00:08<01:07,  1.32it/s]"
     ]
    },
    {
     "name": "stdout",
     "output_type": "stream",
     "text": [
      "LOSS: train 2389.94869296875, validation 2364.355432128906\n"
     ]
    },
    {
     "name": "stderr",
     "output_type": "stream",
     "text": [
      " 18%|\u001b[36m█▊        \u001b[0m| 18/100 [00:14<01:06,  1.24it/s]"
     ]
    },
    {
     "name": "stdout",
     "output_type": "stream",
     "text": [
      "Final loss on train:\n",
      "With layer_norm 2389.93080234375, without 2390.274109375\n",
      "--------------------------------------------------\n",
      "Final loss on test:\n",
      "With layer_norm 2364.401904296875, without 2364.3518798828127\n"
     ]
    },
    {
     "name": "stderr",
     "output_type": "stream",
     "text": [
      "\n"
     ]
    },
    {
     "data": {
      "image/png": "[encoded data removed]",
      "text/plain": [
       "<Figure size 640x480 with 1 Axes>"
      ]
     },
     "metadata": {},
     "output_type": "display_data"
    }
   ],
   "source": [
    "m = -2\n",
    "sigma = 1.5\n",
    "\n",
    "tr, tst, tr_n, tst_n = compare(m, sigma, 0.8, n_epochs=100)\n",
    "\n",
    "plt.title(f'$\\sigma \\sim m$, m={m}, $\\sigma$={sigma}')\n",
    "plot_results(tr, tst, tr_n, tst_n, skip_first=6)"
   ]
  },
  {
   "cell_type": "code",
   "execution_count": null,
   "metadata": {},
   "outputs": [],
   "source": []
  },
  {
   "cell_type": "markdown",
   "metadata": {},
   "source": [
    "### $m \\gg \\sigma$"
   ]
  },
  {
   "cell_type": "code",
   "execution_count": 270,
   "metadata": {},
   "outputs": [
    {
     "name": "stderr",
     "output_type": "stream",
     "text": [
      "  0%|\u001b[36m          \u001b[0m| 1/400 [00:00<05:23,  1.23it/s]"
     ]
    },
    {
     "name": "stdout",
     "output_type": "stream",
     "text": [
      "LOSS: train 4.186940594482422, validation 2.1142835915088654\n"
     ]
    },
    {
     "name": "stderr",
     "output_type": "stream",
     "text": [
      "  3%|\u001b[36m▎         \u001b[0m| 11/400 [00:09<05:45,  1.13it/s]"
     ]
    },
    {
     "name": "stdout",
     "output_type": "stream",
     "text": [
      "LOSS: train 1.95202322807312, validation 1.9566747903823853\n"
     ]
    },
    {
     "name": "stderr",
     "output_type": "stream",
     "text": [
      "  4%|\u001b[36m▎         \u001b[0m| 14/400 [00:12<05:57,  1.08it/s]\n"
     ]
    },
    {
     "name": "stdout",
     "output_type": "stream",
     "text": [
      "Switching models\n"
     ]
    },
    {
     "name": "stderr",
     "output_type": "stream",
     "text": [
      "  0%|\u001b[36m          \u001b[0m| 1/400 [00:00<06:03,  1.10it/s]"
     ]
    },
    {
     "name": "stdout",
     "output_type": "stream",
     "text": [
      "LOSS: train 69.66163992919923, validation 41.77386474609375\n"
     ]
    },
    {
     "name": "stderr",
     "output_type": "stream",
     "text": [
      "  3%|\u001b[36m▎         \u001b[0m| 11/400 [00:10<06:00,  1.08it/s]"
     ]
    },
    {
     "name": "stdout",
     "output_type": "stream",
     "text": [
      "LOSS: train 1.5345673501968384, validation 1.5384590029716492\n"
     ]
    },
    {
     "name": "stderr",
     "output_type": "stream",
     "text": [
      "  3%|\u001b[36m▎         \u001b[0m| 13/400 [00:13<06:30,  1.01s/it]"
     ]
    },
    {
     "name": "stdout",
     "output_type": "stream",
     "text": [
      "Final loss on train:\n",
      "With layer_norm 1.5299067184448243, without 1.9420433864593505\n",
      "--------------------------------------------------\n",
      "Final loss on test:\n",
      "With layer_norm 1.5365007102489472, without 1.9476362466812134\n"
     ]
    },
    {
     "name": "stderr",
     "output_type": "stream",
     "text": [
      "\n"
     ]
    },
    {
     "data": {
      "image/png": "[encoded data removed]",
      "text/plain": [
       "<Figure size 640x480 with 1 Axes>"
      ]
     },
     "metadata": {},
     "output_type": "display_data"
    }
   ],
   "source": [
    "m = 3\n",
    "sigma = 0.2\n",
    "\n",
    "tr, tst, tr_n, tst_n = compare(m, sigma, 0.8, n_epochs=400)\n",
    "\n",
    "plt.title(f'$\\sigma \\ll m$, m={m}, $\\sigma$={sigma}')\n",
    "plot_results(tr, tst, tr_n, tst_n, skip_first=6)"
   ]
  },
  {
   "cell_type": "code",
   "execution_count": 271,
   "metadata": {},
   "outputs": [
    {
     "name": "stderr",
     "output_type": "stream",
     "text": [
      "  0%|\u001b[36m          \u001b[0m| 1/400 [00:00<05:39,  1.18it/s]"
     ]
    },
    {
     "name": "stdout",
     "output_type": "stream",
     "text": [
      "LOSS: train 4.506439881896973, validation 4.2530245900154116\n"
     ]
    },
    {
     "name": "stderr",
     "output_type": "stream",
     "text": [
      "  2%|\u001b[36m▏         \u001b[0m| 8/400 [00:07<06:12,  1.05it/s]\n"
     ]
    },
    {
     "name": "stdout",
     "output_type": "stream",
     "text": [
      "Switching models\n"
     ]
    },
    {
     "name": "stderr",
     "output_type": "stream",
     "text": [
      "  0%|\u001b[36m          \u001b[0m| 1/400 [00:00<05:57,  1.11it/s]"
     ]
    },
    {
     "name": "stdout",
     "output_type": "stream",
     "text": [
      "LOSS: train 8.888504583740234, validation 6.949326014518737\n"
     ]
    },
    {
     "name": "stderr",
     "output_type": "stream",
     "text": [
      "  2%|\u001b[36m▎         \u001b[0m| 10/400 [00:09<05:53,  1.10it/s]"
     ]
    },
    {
     "name": "stdout",
     "output_type": "stream",
     "text": [
      "LOSS: train 4.181150569152832, validation 4.144595384597778\n",
      "Final loss on train:\n",
      "With layer_norm 4.181150569152832, without 4.237857356262207\n",
      "--------------------------------------------------\n",
      "Final loss on test:\n",
      "With layer_norm 4.144595384597778, without 4.202827048301697\n"
     ]
    },
    {
     "name": "stderr",
     "output_type": "stream",
     "text": [
      "\n"
     ]
    },
    {
     "data": {
      "image/png": "[encoded data removed]",
      "text/plain": [
       "<Figure size 640x480 with 1 Axes>"
      ]
     },
     "metadata": {},
     "output_type": "display_data"
    }
   ],
   "source": [
    "m = -2\n",
    "sigma = 0.3\n",
    "\n",
    "tr, tst, tr_n, tst_n = compare(m, sigma, 0.8, n_epochs=400)\n",
    "\n",
    "plt.title(f'$\\sigma \\ll m$, m={m}, $\\sigma$={sigma}')\n",
    "plot_results(tr, tst, tr_n, tst_n, skip_first=6)"
   ]
  },
  {
   "cell_type": "markdown",
   "metadata": {},
   "source": [
    "### $m \\ll \\sigma$"
   ]
  },
  {
   "cell_type": "code",
   "execution_count": 273,
   "metadata": {},
   "outputs": [
    {
     "name": "stderr",
     "output_type": "stream",
     "text": [
      "  1%|\u001b[36m          \u001b[0m| 1/100 [00:01<01:45,  1.07s/it]"
     ]
    },
    {
     "name": "stdout",
     "output_type": "stream",
     "text": [
      "LOSS: train 395.66619379882815, validation 392.98307647705076\n"
     ]
    },
    {
     "name": "stderr",
     "output_type": "stream",
     "text": [
      " 11%|\u001b[36m█         \u001b[0m| 11/100 [00:10<01:22,  1.08it/s]"
     ]
    },
    {
     "name": "stdout",
     "output_type": "stream",
     "text": [
      "LOSS: train 390.5499555175781, validation 388.0342498779297\n"
     ]
    },
    {
     "name": "stderr",
     "output_type": "stream",
     "text": [
      " 21%|\u001b[36m██        \u001b[0m| 21/100 [00:18<01:05,  1.20it/s]"
     ]
    },
    {
     "name": "stdout",
     "output_type": "stream",
     "text": [
      "LOSS: train 389.7148353515625, validation 387.13612670898436\n"
     ]
    },
    {
     "name": "stderr",
     "output_type": "stream",
     "text": [
      " 31%|\u001b[36m███       \u001b[0m| 31/100 [00:26<00:47,  1.47it/s]"
     ]
    },
    {
     "name": "stdout",
     "output_type": "stream",
     "text": [
      "LOSS: train 389.5337004882812, validation 386.91201171875\n"
     ]
    },
    {
     "name": "stderr",
     "output_type": "stream",
     "text": [
      " 41%|\u001b[36m████      \u001b[0m| 41/100 [00:33<00:38,  1.54it/s]"
     ]
    },
    {
     "name": "stdout",
     "output_type": "stream",
     "text": [
      "LOSS: train 389.48842685546873, validation 386.84414825439455\n"
     ]
    },
    {
     "name": "stderr",
     "output_type": "stream",
     "text": [
      " 47%|\u001b[36m████▋     \u001b[0m| 47/100 [00:38<00:43,  1.21it/s]\n"
     ]
    },
    {
     "name": "stdout",
     "output_type": "stream",
     "text": [
      "Switching models\n"
     ]
    },
    {
     "name": "stderr",
     "output_type": "stream",
     "text": [
      "  1%|\u001b[36m          \u001b[0m| 1/100 [00:00<01:19,  1.25it/s]"
     ]
    },
    {
     "name": "stdout",
     "output_type": "stream",
     "text": [
      "LOSS: train 393.618521875, validation 391.09578094482424\n"
     ]
    },
    {
     "name": "stderr",
     "output_type": "stream",
     "text": [
      " 11%|\u001b[36m█         \u001b[0m| 11/100 [00:08<01:03,  1.40it/s]"
     ]
    },
    {
     "name": "stdout",
     "output_type": "stream",
     "text": [
      "LOSS: train 390.33174599609373, validation 387.81053619384767\n"
     ]
    },
    {
     "name": "stderr",
     "output_type": "stream",
     "text": [
      " 21%|\u001b[36m██        \u001b[0m| 21/100 [00:15<00:52,  1.51it/s]"
     ]
    },
    {
     "name": "stdout",
     "output_type": "stream",
     "text": [
      "LOSS: train 389.65302431640623, validation 387.068359375\n"
     ]
    },
    {
     "name": "stderr",
     "output_type": "stream",
     "text": [
      " 31%|\u001b[36m███       \u001b[0m| 31/100 [00:22<00:51,  1.34it/s]"
     ]
    },
    {
     "name": "stdout",
     "output_type": "stream",
     "text": [
      "LOSS: train 389.5110383789063, validation 386.8844940185547\n"
     ]
    },
    {
     "name": "stderr",
     "output_type": "stream",
     "text": [
      " 41%|\u001b[36m████      \u001b[0m| 41/100 [00:29<00:38,  1.53it/s]"
     ]
    },
    {
     "name": "stdout",
     "output_type": "stream",
     "text": [
      "LOSS: train 389.4805616210937, validation 386.832341003418\n"
     ]
    },
    {
     "name": "stderr",
     "output_type": "stream",
     "text": [
      " 44%|\u001b[36m████▍     \u001b[0m| 44/100 [00:31<00:40,  1.39it/s]"
     ]
    },
    {
     "name": "stdout",
     "output_type": "stream",
     "text": [
      "Final loss on train:\n",
      "With layer_norm 389.47661166992185, without 389.47847954101564\n",
      "--------------------------------------------------\n",
      "Final loss on test:\n",
      "With layer_norm 386.82327728271486, without 386.8253829956055\n"
     ]
    },
    {
     "name": "stderr",
     "output_type": "stream",
     "text": [
      "\n"
     ]
    },
    {
     "data": {
      "image/png": "[encoded data removed]",
      "text/plain": [
       "<Figure size 640x480 with 1 Axes>"
      ]
     },
     "metadata": {},
     "output_type": "display_data"
    }
   ],
   "source": [
    "m = 0.1\n",
    "sigma = 1\n",
    "\n",
    "tr, tst, tr_n, tst_n = compare(m, sigma, 0.8, n_epochs=100, lr=5e-4)\n",
    "\n",
    "plt.title(f'$\\sigma \\gg m$, m={m}, $\\sigma$={sigma}')\n",
    "plot_results(tr, tst, tr_n, tst_n, skip_first=0)"
   ]
  },
  {
   "cell_type": "code",
   "execution_count": 274,
   "metadata": {},
   "outputs": [
    {
     "name": "stderr",
     "output_type": "stream",
     "text": [
      "  0%|\u001b[36m          \u001b[0m| 1/300 [00:00<04:47,  1.04it/s]"
     ]
    },
    {
     "name": "stdout",
     "output_type": "stream",
     "text": [
      "LOSS: train 6238.34970546875, validation 6184.059716796875\n"
     ]
    },
    {
     "name": "stderr",
     "output_type": "stream",
     "text": [
      "  4%|\u001b[36m▎         \u001b[0m| 11/300 [00:09<04:08,  1.16it/s]"
     ]
    },
    {
     "name": "stdout",
     "output_type": "stream",
     "text": [
      "LOSS: train 6219.47204375, validation 6164.562719726562\n"
     ]
    },
    {
     "name": "stderr",
     "output_type": "stream",
     "text": [
      "  7%|\u001b[36m▋         \u001b[0m| 21/300 [00:17<03:50,  1.21it/s]"
     ]
    },
    {
     "name": "stdout",
     "output_type": "stream",
     "text": [
      "LOSS: train 6215.99153046875, validation 6159.682373046875\n"
     ]
    },
    {
     "name": "stderr",
     "output_type": "stream",
     "text": [
      " 10%|\u001b[36m█         \u001b[0m| 31/300 [00:26<03:43,  1.20it/s]"
     ]
    },
    {
     "name": "stdout",
     "output_type": "stream",
     "text": [
      "LOSS: train 6215.29648671875, validation 6158.2684326171875\n"
     ]
    },
    {
     "name": "stderr",
     "output_type": "stream",
     "text": [
      " 14%|\u001b[36m█▎        \u001b[0m| 41/300 [00:34<03:40,  1.17it/s]"
     ]
    },
    {
     "name": "stdout",
     "output_type": "stream",
     "text": [
      "LOSS: train 6215.17098359375, validation 6157.7947998046875\n"
     ]
    },
    {
     "name": "stderr",
     "output_type": "stream",
     "text": [
      " 17%|\u001b[36m█▋        \u001b[0m| 51/300 [00:43<03:31,  1.18it/s]"
     ]
    },
    {
     "name": "stdout",
     "output_type": "stream",
     "text": [
      "LOSS: train 6215.1549546875, validation 6157.61455078125\n"
     ]
    },
    {
     "name": "stderr",
     "output_type": "stream",
     "text": [
      " 20%|\u001b[36m██        \u001b[0m| 61/300 [00:51<03:23,  1.18it/s]"
     ]
    },
    {
     "name": "stdout",
     "output_type": "stream",
     "text": [
      "LOSS: train 6215.1565109375, validation 6157.539331054688\n"
     ]
    },
    {
     "name": "stderr",
     "output_type": "stream",
     "text": [
      " 24%|\u001b[36m██▎       \u001b[0m| 71/300 [00:59<03:12,  1.19it/s]"
     ]
    },
    {
     "name": "stdout",
     "output_type": "stream",
     "text": [
      "LOSS: train 6215.159146875, validation 6157.50625\n"
     ]
    },
    {
     "name": "stderr",
     "output_type": "stream",
     "text": [
      " 24%|\u001b[36m██▎       \u001b[0m| 71/300 [01:00<03:15,  1.17it/s]\n"
     ]
    },
    {
     "name": "stdout",
     "output_type": "stream",
     "text": [
      "Switching models\n"
     ]
    },
    {
     "name": "stderr",
     "output_type": "stream",
     "text": [
      "  0%|\u001b[36m          \u001b[0m| 1/300 [00:00<04:43,  1.05it/s]"
     ]
    },
    {
     "name": "stdout",
     "output_type": "stream",
     "text": [
      "LOSS: train 6238.6937578125, validation 6186.27900390625\n"
     ]
    },
    {
     "name": "stderr",
     "output_type": "stream",
     "text": [
      "  4%|\u001b[36m▎         \u001b[0m| 11/300 [00:09<03:58,  1.21it/s]"
     ]
    },
    {
     "name": "stdout",
     "output_type": "stream",
     "text": [
      "LOSS: train 6219.7645796875, validation 6164.94580078125\n"
     ]
    },
    {
     "name": "stderr",
     "output_type": "stream",
     "text": [
      "  7%|\u001b[36m▋         \u001b[0m| 21/300 [00:18<04:07,  1.13it/s]"
     ]
    },
    {
     "name": "stdout",
     "output_type": "stream",
     "text": [
      "LOSS: train 6216.00600625, validation 6159.719995117188\n"
     ]
    },
    {
     "name": "stderr",
     "output_type": "stream",
     "text": [
      " 10%|\u001b[36m█         \u001b[0m| 31/300 [00:26<03:46,  1.19it/s]"
     ]
    },
    {
     "name": "stdout",
     "output_type": "stream",
     "text": [
      "LOSS: train 6215.289328125, validation 6158.260815429688\n"
     ]
    },
    {
     "name": "stderr",
     "output_type": "stream",
     "text": [
      " 14%|\u001b[36m█▎        \u001b[0m| 41/300 [00:35<03:45,  1.15it/s]"
     ]
    },
    {
     "name": "stdout",
     "output_type": "stream",
     "text": [
      "LOSS: train 6215.16686953125, validation 6157.785961914063\n"
     ]
    },
    {
     "name": "stderr",
     "output_type": "stream",
     "text": [
      " 17%|\u001b[36m█▋        \u001b[0m| 51/300 [00:44<03:34,  1.16it/s]"
     ]
    },
    {
     "name": "stdout",
     "output_type": "stream",
     "text": [
      "LOSS: train 6215.1527671875, validation 6157.609057617187\n"
     ]
    },
    {
     "name": "stderr",
     "output_type": "stream",
     "text": [
      " 20%|\u001b[36m██        \u001b[0m| 61/300 [00:51<03:02,  1.31it/s]"
     ]
    },
    {
     "name": "stdout",
     "output_type": "stream",
     "text": [
      "LOSS: train 6215.15493359375, validation 6157.536596679687\n"
     ]
    },
    {
     "name": "stderr",
     "output_type": "stream",
     "text": [
      " 23%|\u001b[36m██▎       \u001b[0m| 70/300 [00:58<03:13,  1.19it/s]"
     ]
    },
    {
     "name": "stdout",
     "output_type": "stream",
     "text": [
      "LOSS: train 6215.15773984375, validation 6157.505322265625\n",
      "Final loss on train:\n",
      "With layer_norm 6215.15773984375, without 6215.159365625\n",
      "--------------------------------------------------\n",
      "Final loss on test:\n",
      "With layer_norm 6157.505322265625, without 6157.504443359375\n"
     ]
    },
    {
     "name": "stderr",
     "output_type": "stream",
     "text": [
      "\n"
     ]
    },
    {
     "data": {
      "image/png": "[encoded data removed]",
      "text/plain": [
       "<Figure size 640x480 with 1 Axes>"
      ]
     },
     "metadata": {},
     "output_type": "display_data"
    }
   ],
   "source": [
    "m = -0.2\n",
    "sigma = 2\n",
    "\n",
    "tr, tst, tr_n, tst_n = compare(m, sigma, 0.8, lr=5e-4)\n",
    "\n",
    "plt.title(f'$\\sigma \\gg m$, m={m}, $\\sigma$={sigma}')\n",
    "plot_results(tr, tst, tr_n, tst_n, skip_first=0)"
   ]
  },
  {
   "cell_type": "markdown",
   "metadata": {},
   "source": [
    "Analyzing the results, we can say that in our case layer norm always speeds the convergence significantly. Perfomance of the model with layer norm is also always better than the one without norm. Difference is the most significant in the regime $\\sigma \\gg m$, in the regime $\\sigma \\sim m$ model with layer norm is also noticeable better and converges faster. In the regime $\\sigma \\gg m$ there is barely any difference between the models in terms of perfomance, however model with layer norm converges a little bit faster."
   ]
  },
  {
   "cell_type": "markdown",
   "metadata": {},
   "source": [
    "### Theoretical approach\n",
    "\n",
    "We observe $(x_1, \\ldots, x_n)$. Layer norm does the following:\n",
    "$$ \\tilde{x}_i \\rightarrow \\frac{x_i - \\mu}{\\sigma}, \\quad \\mu = \\frac{1}{n} \\sum_{i=1}^n x_i, \\quad \\sigma^2 = \\frac{1}{n} \\sum_{i=1}^n (x_i - \\mu)^2$$\n",
    "From the first glance, layer norm should not increase the results, because it is a linear function. Since we are predicting using the linear function, if we add layer norm we would also get a linear function. However, the coefficents of the layer norm are different for different inputs $(x_1, \\ldots, x_n)$ but for our model linear layer we're trying to find fixed weights that work best for our data. We can consider very simple case, when $z_i = z_0, \\forall i \\in \\overline {1, n}$. Then $x_i$ are i.i.d. $\\rightarrow x_i \\sim \\mathcal{N}(z_0, \\sigma_z^2)$.\n",
    "For sample $(x_1, \\ldots, x_n)$:\n",
    "$$ \\mu \\rightarrow z_0$$  \n",
    "$$ \\sigma^2 \\rightarrow \\sigma^2_z $$\n",
    "Now $\\tilde{x}_i$ are distributed as $\\mathcal{N}(0, 1)$. <br>\n",
    "Let's take a look at the gradients:\n",
    "$$ \\frac{\\partial}{\\partial \\alpha_i}\\| y - \\alpha^T \\tilde{x} \\|^2_2 = -2(y - \\alpha^T \\tilde{x}) \\tilde{x}_i$$\n",
    "$$ \\frac{\\partial}{\\partial \\alpha_i}\\| y - \\alpha^T x \\|^2_2 = -2(y - \\alpha^T x) x_i$$"
   ]
  },
  {
   "cell_type": "markdown",
   "metadata": {},
   "source": []
  },
  {
   "cell_type": "markdown",
   "metadata": {},
   "source": [
    "https://arxiv.org/pdf/1802.06455.pdf"
   ]
  }
 ],
 "metadata": {
  "kernelspec": {
   "display_name": "Python 3",
   "language": "python",
   "name": "python3"
  },
  "language_info": {
   "codemirror_mode": {
    "name": "ipython",
    "version": 3
   },
   "file_extension": ".py",
   "mimetype": "text/x-python",
   "name": "python",
   "nbconvert_exporter": "python",
   "pygments_lexer": "ipython3",
   "version": "3.9.6"
  }
 },
 "nbformat": 4,
 "nbformat_minor": 2
}
