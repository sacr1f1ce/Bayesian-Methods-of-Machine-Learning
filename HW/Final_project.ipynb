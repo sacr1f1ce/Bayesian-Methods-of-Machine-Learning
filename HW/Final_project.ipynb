{
 "cells": [
  {
   "cell_type": "markdown",
   "metadata": {},
   "source": [
    "### Problem Statement\n",
    "Let us consider $y = \\theta^T z + \\epsilon, z_i \\sim N(m, \\sigma^2), \\epsilon \\sim N(0, \\sigma_\\epsilon^2)$. <br>\n",
    "We observe $x_i \\sim N(z_i, \\sigma_z^2)$. We estimate $y$ using the maximum likelihood estimation as a linear function of $x$.\n",
    "We would like to investigate, does the layer norm among dimensions of $x$ improves the risk theoretically or experimentally. <br>\n",
    "Our work is splitted into the following parts:\n",
    "- Deriving MLE estimate\n",
    "- Computing quadratic risk for the MLE estimate\n",
    "- Experiments comparing model with and without Layer Norm\n",
    "- Theoretical justification of the results\n",
    "- Additional Simulation\n",
    "- Conclusion"
   ]
  },
  {
   "cell_type": "markdown",
   "metadata": {},
   "source": [
    "### MLE estimate\n",
    "By definition:\n",
    "$$ \\hat{y}_\\text{MLE} = \\argmax_y p(y|x) $$\n",
    "Let's rewrite $p(y|x)$ using $z$:\n",
    "$$ p(y|x) = \\int p(y,z |x)dz = \\int p(y|z,x) p(z|x) dz $$\n",
    "From the Bayes formula:\n",
    "$$ p(z|x) = \\frac{p(x|z)p(z)}{p(x)} $$\n",
    "$$ \\argmax_y{p(y|x)} = \\argmax_y{\\int p(y|z,x) p(x|z)p(z) dz} $$\n",
    "Let's work with every term one by one:\n",
    "$$ y = \\theta^T z + \\epsilon \\Rightarrow \\epsilon = y - \\theta^T z \\Rightarrow p(y|z,x) = \\mathcal{N}(y - \\theta^Tz|0, \\sigma^2_\\epsilon)$$\n",
    "$$ p(x|z) = \\prod_i \\mathcal{N}(x_i | z_i, \\sigma^2_z) $$\n",
    "$$ p(z) = \\prod_i \\mathcal{N}(z_i | m, \\sigma^2)$$\n",
    "Now we will try to find the form of $p(z|x)$: (when use $\\propto$ we drop terms that only depend on $x$ and act as normalizing constants)\n",
    "$$p(z|x) \\propto  \\prod_i \\mathcal{N}(x_i | z_i, \\sigma^2_z) \\mathcal{N}(z_i | m, \\sigma^2) \\propto \\prod_i \\exp\\left( -\\frac{1}{2} \\frac{(x_i-z_i)^2}{\\sigma^2_z}\\right) \\exp\\left( -\\frac{1}{2} \\frac{(z_i-m)^2}{\\sigma^2}\\right)$$\n",
    "$$\\exp\\left( -\\frac{1}{2} \\frac{(x_i-z_i)^2}{\\sigma^2_z}\\right) \\exp\\left( -\\frac{1}{2} \\frac{(z_i-m)^2}{\\sigma^2}\\right) = \\exp\\left( -\\frac{1}{2}\\left( \\frac{(x_i-z_i)^2}{\\sigma^2_z} +\\frac{(z_i-m)^2}{\\sigma^2}\\right) \\right)  $$\n",
    "$$ \\frac{(x_i-z_i)^2}{\\sigma^2_z} +\\frac{(z_i-m)^2}{\\sigma^2} = z_i^2 \\left( \\frac{1}{\\sigma_z^2} + \\frac{1}{\\sigma^2}\\right) - 2z_i \\left( \\frac{x_i}{\\sigma_z^2} + \\frac{m}{\\sigma^2}\\right) + \\frac{x_i^2}{\\sigma^2_z} + \\frac{m^2}{\\sigma^2} = \\frac{(z_i - \\mu_i)^2}{\\sigma_0^2} - \\frac{\\mu_i^2}{\\sigma_0^2} + \\frac{x_i^2}{\\sigma^2_z} + \\frac{m^2}{\\sigma^2}, \\quad \\mu_i = \\frac{\\sigma^2 x_i + m \\sigma_z^2}{\\sigma^2 + \\sigma^2_z}, \\; \\sigma_0^2 = \\frac{\\sigma^2_z \\sigma^2}{\\sigma^2 + \\sigma^2_z}$$\n",
    "We see that $p(z|x)$ is also normal:\n",
    "$$p(z|x) =  \\prod_i  \\mathcal{N}\\left(z_i \\bigg| \\mu_i, \\sigma_0^2\\right), \\quad \\mu_i = \\frac{\\sigma^2 x_i + m \\sigma_z^2}{\\sigma^2 + \\sigma^2_z}, \\; \\sigma_0^2 = \\frac{\\sigma^2_z \\sigma^2}{\\sigma^2 + \\sigma^2_z}$$\n",
    "Plugging in everything we found:\n",
    "$$ \\argmax_y{p(y|x)} = \\argmax_y{\\int \\mathcal{N}(y - \\theta^Tz|0, \\sigma^2_\\epsilon) \\prod_i  \\mathcal{N}\\left(z_i \\bigg| \\mu_i, \\sigma_0^2 \\right) dz_i} $$\n",
    "\n"
   ]
  },
  {
   "cell_type": "markdown",
   "metadata": {},
   "source": [
    "We see that we have a product of exponents under the integral sign, let's try to expand it and complete the square: <br>\n",
    "**Everywhere we use $\\propto$ we omit the terms that do not contain $y$ or $z$ since we do not need them.**\n",
    "$$ \\mathcal{N}(y - \\theta^Tz|0, \\sigma^2_\\epsilon) \\prod_i  \\mathcal{N}\\left(z_i \\bigg| \\mu_i, \\sigma_0^2 \\right) \\propto \\exp \\left( -\\frac{1}{2} \\left( \\frac{(y-\\theta^Tz)^2}{\\sigma^2_\\epsilon} + \\sum_i \\frac{(z_i - \\mu_i)^2}{\\sigma^2_0} \\right)\\right) $$\n",
    "$$ \\sum_i \\frac{(z_i - \\mu_i)^2}{\\sigma^2_0} = \\frac{(z - \\mu)^T (z - \\mu)}{\\sigma^2_0} = \\frac{z^Tz - 2z^T \\mu + \\mu^T \\mu}{\\sigma^2_0}$$\n",
    "$$ \\frac{(y-\\theta^Tz)^2}{\\sigma^2_\\epsilon} = \\frac{y^2 - 2y \\theta^Tz + (\\theta^Tz)^2}{\\sigma_\\epsilon^2}$$\n",
    "$$ \\frac{y^2 - 2y \\theta^Tz + (\\theta^Tz)^2}{\\sigma_\\epsilon^2} + \\frac{z^Tz - 2z^T \\mu + \\mu^T \\mu}{\\sigma^2_0} = z^T \\left( \\frac{1}{\\sigma_0^2} + \\frac{\\theta \\theta^T}{\\sigma_\\epsilon^2} \\right) z  -2 \\left( y\\frac{\\theta^T}{\\sigma_0^2} + \\frac{\\mu^T}{\\sigma^2_\\epsilon} \\right) z + \\frac{y^2}{\\sigma_\\epsilon^2} + \\frac{\\mu^T\\mu}{\\sigma_0^2}$$\n",
    "We can introduce symmetric positive-definite matrix $D$:\n",
    "$$ D = \\left( \\frac{1}{\\sigma_0^2} + \\frac{\\theta \\theta^T}{\\sigma_\\epsilon^2} \\right) \\rightarrow z^T \\left( \\frac{1}{\\sigma_0^2} + \\frac{\\theta \\theta^T}{\\sigma_\\epsilon^2} \\right) z = z^T D z$$\n",
    "Let's also introduce $v$:\n",
    "$$ v^T = \\left( y\\frac{\\theta^T}{\\sigma_0^2} + \\frac{\\mu^T}{\\sigma^2_\\epsilon} \\right) $$\n",
    "Then we can rewrite\n",
    "$$ \\exp \\left( -\\frac{1}{2} \\left( \\frac{(y-\\theta^Tz)^2}{\\sigma^2_\\epsilon} + \\sum_i \\frac{(z_i - \\mu_i)^2}{\\sigma^2_0} \\right)\\right) = \\exp \\left(-\\frac{1}{2} \\left(z^T D z - 2v^Tz + \\frac{y^2}{\\sigma_\\epsilon^2} + \\frac{\\mu^T\\mu}{\\sigma_0^2}\\right)\\right)$$\n",
    "Since $D$ is symmetric positive-definite $D^{1/2}$, $D^{-1/2}$ are correctly definied and $D^T = D$, $(D^{1/2})^T = D^{1/2}$ and we can use them to complete the square.\n",
    "$$ \\exp \\left( z^T D z - 2v^Tz\\right) = \\exp \\left( (D^{1/2}z - D^{-1/2}v)^2 - v^TD^{-1}v\\right) $$\n",
    "$$\\int \\mathcal{N}(y - \\theta^Tz|0, \\sigma^2_\\epsilon) \\prod_i  \\mathcal{N}\\left(z_i \\bigg| x_i + m, \\frac{\\sigma^2_z \\sigma^2}{\\sigma^2 + \\sigma^2_z}\\right) dz_i \\propto \\exp\\left( -\\frac{y^2}{2\\sigma_\\epsilon^2} + \\frac{1}{2} v^TD^{-1}v \\right)\\int \\exp \\left( -\\frac{1}{2}(D^{1/2}z - D^{-1/2}v)^2 \\right) dz$$\n",
    "We can make a simple substitution to get rid of $v$ under the integral:\n",
    "$$ \\int \\exp \\left( -\\frac{1}{2}(D^{1/2}z - D^{-1/2}v)^2 \\right) dz \\overset{u = z - D^{-1}v}{=} \\int \\exp \\left( -\\frac{1}{2}(D^{1/2}u)^2 \\right) du$$\n",
    "As we can see, the integral doesn't actually depend on $y$ and we are left with maximizing the coefficient before it:\n",
    "$$ \\hat{y} = \\argmax_y{\\int \\mathcal{N}(y - \\theta^Tz|0, \\sigma^2_\\epsilon) \\prod_i  \\mathcal{N}\\left(z_i \\bigg| x_i + m, \\frac{\\sigma^2_z \\sigma^2}{\\sigma^2 + \\sigma^2_z}\\right) dz_i} =  \\argmax_y{\\left[\\exp\\left( -\\frac{y^2}{2\\sigma_\\epsilon^2} + \\frac{1}{2} v^TD^{-1}v \\right)\\right]} = $$\n",
    "$$ = \\argmax_y{\\left( -\\frac{y^2}{\\sigma_\\epsilon^2} + v^TD^{-1}v \\right)}$$\n",
    "We will use the derrivative and do not forget that $\\frac{\\partial}{\\partial y} v = \\frac{\\partial}{\\partial y} \\left( y\\frac{\\theta}{\\sigma_0^2} + \\frac{\\mu}{\\sigma^2_\\epsilon} \\right) = \\frac{\\theta}{\\sigma_0^2}$\n",
    "$$ \\frac{d}{dy} \\left(-\\frac{y^2}{\\sigma_\\epsilon^2} + v^TD^{-1}v\\right) = \\frac{-2y}{\\sigma_\\epsilon^2} + \\frac{2v^TD^{-1}\\theta}{\\sigma_0^2} = 0$$\n",
    "$$ \\hat{y} =  \\frac{\\sigma^2_\\epsilon}{\\sigma_0^2} v^TD^{-1}\\theta $$\n",
    "Notice that $\\theta$ is the eigenvector of $D$:\n",
    "$$ D \\theta = \\left( \\frac{1}{\\sigma_0^2} + \\frac{\\theta \\theta^T}{\\sigma_\\epsilon^2} \\right) \\theta = \\left( \\frac{1}{\\sigma_0^2} + \\frac{\\theta^T \\theta}{\\sigma_\\epsilon^2} \\right) \\theta \\Rightarrow D^{-1}\\theta = \\left( \\frac{1}{\\sigma_0^2} + \\frac{\\theta^T \\theta}{\\sigma_\\epsilon^2} \\right)^{-1} \\theta $$\n",
    "$$\\hat{y} = \\frac{\\sigma^2_\\epsilon}{\\sigma_0^2} \\left( \\frac{1}{\\sigma_0^2} + \\frac{\\theta^T \\theta}{\\sigma_\\epsilon^2} \\right)^{-1} v^T \\theta $$\n",
    "$$ \\hat{y} = \\frac{\\sigma^2_\\epsilon}{\\sigma_0^2} \\left( \\frac{1}{\\sigma_0^2} + \\frac{\\theta^T \\theta}{\\sigma_\\epsilon^2} \\right)^{-1} \\left( \\hat{y}\\frac{\\theta^T\\theta}{\\sigma_0^2} + \\frac{\\mu^T\\theta}{\\sigma^2_\\epsilon} \\right)$$\n",
    "$$ \\left( \\frac{1}{\\sigma_0^2} + \\frac{\\theta^T \\theta}{\\sigma_\\epsilon^2} \\right) \\hat{y} = \\frac{\\sigma^2_\\epsilon}{\\sigma_0^2} \\left( \\hat{y} \\frac{\\theta^T\\theta}{\\sigma_0^2} + \\frac{\\mu^T\\theta}{\\sigma^2_\\epsilon} \\right)$$\n",
    "$$ \\left( \\frac{1}{\\sigma_0^2} + \\frac{\\theta^T \\theta}{\\sigma_\\epsilon^2} + \\frac{\\sigma^2_\\epsilon}{\\sigma_0^2} \\frac{\\theta^T\\theta}{\\sigma_0^2} \\right)\\hat{y} = \\frac{\\mu^T\\theta}{\\sigma^2_0} $$\n",
    "$$ \\left( 1 + \\theta^T \\theta \\left(\\frac{\\sigma_0^2}{\\sigma_\\epsilon^2} + \\frac{\\sigma^2_\\epsilon}{\\sigma_0^2} \\right) \\right)\\hat{y} = \\mu^T\\theta $$\n",
    "$$\\boxed{\\hat{y}_\\text{MLE} = \\frac{\\mu^T\\theta}{1 + \\theta^T \\theta \\left(\\frac{\\sigma_0^2}{\\sigma_\\epsilon^2} + \\frac{\\sigma^2_\\epsilon}{\\sigma_0^2} \\right)}, \\quad \\mu_i = \\frac{\\sigma^2 x_i + m \\sigma_z^2}{\\sigma^2 + \\sigma^2_z}, \\; \\sigma_0^2 = \\frac{\\sigma^2_z \\sigma^2}{\\sigma^2 + \\sigma^2_z}} $$"
   ]
  },
  {
   "cell_type": "markdown",
   "metadata": {},
   "source": [
    "### Quadratic Risk\n",
    "By the definition quadratic risk is $E[(y - \\hat{y})^2] = \\int (y - \\hat{y})^2 p(z, x) dz dx$. <br>\n",
    "First we will get rid of noise $\\epsilon$:\n",
    "$$E[(y - \\hat{y})^2] = E[(\\theta^Tz + \\epsilon - \\hat{y}^2)] = E[(\\theta^T - z)^2] + 2E[(\\theta^Tz - \\hat{y})\\epsilon] + E[\\epsilon^2]$$\n",
    "$$ E[\\epsilon^2] = \\sigma_\\epsilon^2$$\n",
    "Since $\\epsilon$ is independent of other random variables:\n",
    "$$ E[(\\theta^Tz - \\hat{y})\\epsilon] = E[(\\theta^Tz - \\hat{y})]E[\\epsilon] = 0$$\n",
    "We arrive at\n",
    "$$ E[(y - \\hat{y})^2] = E[(\\theta^T z - \\hat{y})^2] + \\sigma_\\epsilon^2$$\n",
    "Now we will work with the first term\n",
    "$$E[(\\theta^T z - \\hat{y})^2] = E[(\\theta^T z)^2 - 2\\theta^T z \\hat{y} + \\hat{y}^2)]$$\n",
    "$\\theta^T z$ is a weighted sum of normal distributions which is also normal: $\\theta^T z \\sim \\mathcal{N}(m\\sum \\theta_i| \\sigma^2 \\sum \\theta^2_i)$. <br>\n",
    "For $x \\sim \\mathcal{N}(m, \\sigma^2) \\rightarrow E[x^2] = E[x^2 - E[x]^2] + E[x]^2 = \\sigma^2 + m^2$\n",
    "$$ E[(\\theta^T z)^2] = \\sigma^2 \\sum_i \\theta_i^2 + m^2 \\sum_{i,j} \\theta_i \\theta_j $$\n",
    "For the next computations we need the exact form of $\\hat{y}$. In our case we can rewrite it in a bit simplier way:\n",
    "$$ \\hat{y} = \\alpha^T x + \\beta m$$\n",
    "Some further notation requires explanation: everywhere we write $\\alpha^T m$ we mean $m\\sum_i \\alpha_i$, if we add $m$ to the vector we mean elementwise addition, in other cases $m$ is a regular constant. <br>\n",
    "By definition\n",
    "$$ p(z, x) = p(x|z)p(z) = \\prod_i \\mathcal{N}(x_i | z_i, \\sigma^2_z) \\mathcal{N}(z_i | m, \\sigma^2)$$\n",
    "Let's take care of $E[\\theta^T z \\hat{y}]$:\n",
    "$$ E[\\theta^T z \\hat{y}] = E[(\\theta^T z)(\\alpha^T x + \\beta m)] = \\int \\int (\\theta^T z)(\\alpha^T x + \\beta m) \\prod_i \\mathcal{N}(x_i | z_i, \\sigma^2_z) \\mathcal{N}(z_i | m, \\sigma^2) dx_i dz_i =$$\n",
    "$$= \\int (\\theta^T z)(\\alpha^T z + \\beta m) \\prod_i \\mathcal{N}(z_i | m, \\sigma^2) dz_i = \\sum_i \\theta_i \\alpha_i E[z_i^2] +  \\sum\\limits_{\\substack{i,j \\\\ i\\neq j}} \\theta_i \\alpha_j E[z_i z_j] + m^2\\beta \\sum_{i} \\theta_j= \\sum_i \\theta_i \\alpha_i (m^2 + \\sigma^2) + m^2 \\sum\\limits_{\\substack{i,j \\\\ i\\neq j}} \\theta_i \\alpha_j + m^2 \\beta \\sum_{i,j} \\theta_j = \\sigma^2\\sum_i \\theta_i \\alpha_i +  m^2 \\sum_{i, j}\\alpha_i \\theta_j + m^2 \\beta \\sum_{i} \\theta_i $$\n",
    "$$E[\\theta^T z \\hat{y}] =  \\sigma^2\\sum_i \\theta_i \\alpha_i +  m^2 \\sum_{i, j}\\alpha_i \\theta_j + m^2 \\beta \\sum_{i} \\theta_i $$\n",
    "Now we have to deal with $E[\\hat{y}^2]$:\n",
    "$$E[\\hat{y}^2] = E[(\\alpha^T x + \\beta m)^2] = E[(\\alpha^T x)^2] + 2\\beta m E[\\alpha^T x] + \\beta^2 m^2 $$\n",
    "$$E[(\\alpha^T x)^2] = \\sum_i \\alpha_i^2 E[x_i^2] + \\sum\\limits_{\\substack{i,j \\\\ i\\neq j}} \\alpha_i \\alpha_j E[x_i x_j] = \\sum_i \\alpha_i^2 E[\\sigma^2_z + z_i^2] + \\sum\\limits_{\\substack{i,j \\\\ i\\neq j}} \\alpha_i \\alpha_j E[z_i z_j] = \\sum_i \\alpha_i^2 (\\sigma^2_z + \\sigma^2 + m^2) + \\sum\\limits_{\\substack{i,j \\\\ i\\neq j}} \\alpha_i \\alpha_j m^2  = (\\sigma^2 + \\sigma^2_z) \\sum_i \\alpha_i^2 + m^2 \\sum_{i,j}\\alpha_i \\alpha_j $$\n",
    "$$E[\\alpha^T x] = m \\sum_i \\alpha_i$$\n",
    "$$ E[(\\alpha^T x)^2] = (\\sigma^2 + \\sigma^2_z) \\sum_i \\alpha_i^2 + m^2 \\sum_{i,j}\\alpha_i \\alpha_j  + 2m^2 \\beta \\sum_i \\alpha_i + \\beta^2 m^2$$\n",
    "Combining it all together, we finally get \n",
    "$$E[(y - \\hat{y})^2] = \\sigma^2 \\sum_i \\theta_i^2 + m^2 \\sum_{i,j} \\theta_i \\theta_j  - 2\\left((\\sigma^2 + \\sigma^2_z) \\sum_i \\alpha_i^2 + m^2 \\sum_{i,j}\\alpha_i \\alpha_j  + 2m^2 \\beta \\sum_i \\alpha_i + \\beta^2 m^2 \\right) + (\\sigma^2 + \\sigma^2_z) \\sum_i \\alpha_i^2 + m^2 \\sum_{i,j}\\alpha_i \\alpha_j  + 2m^2 \\beta \\sum_i \\alpha_i + \\beta^2 m^2 + \\sigma^2_\\epsilon$$\n",
    "\n",
    "For MLE estimate we just have to plug in:\n",
    "$$\\alpha_i = \\frac{\\theta_i}{1 + \\theta^T \\theta \\left(\\frac{\\sigma_0^2}{\\sigma_\\epsilon^2} + \\frac{\\sigma^2_\\epsilon}{\\sigma_0^2} \\right)} \\frac{\\sigma^2}{\\sigma^2 + \\sigma_0^2}, \\quad \\beta = \\frac{1}{1 + \\theta^T \\theta \\left(\\frac{\\sigma_0^2}{\\sigma_\\epsilon^2} + \\frac{\\sigma^2_\\epsilon}{\\sigma_0^2} \\right)} \\frac{\\sigma_0^2}{\\sigma^2 + \\sigma_0^2}  \\sum_i \\theta_i$$"
   ]
  },
  {
   "cell_type": "markdown",
   "metadata": {},
   "source": [
    "### Experiments"
   ]
  },
  {
   "cell_type": "markdown",
   "metadata": {},
   "source": [
    "Here we consider the data generated in the described above manner. We split it into train/test and then train 2 models (1 linear layer) in supervised manner - one with the layer norm applied to the input and 1 without. We then compare their performance on both train and test set. We use MSELoss as a loss function and as a target metric (because it is an estimate for the quadratic risk). We average loss across all observations. <br>\n",
    "We use layer norm without any trainable parameters (elementwise_affine=False) since it should not affect our linear prediction.  \n",
    "In every experiment we set $\\sigma_z = 0.8$."
   ]
  },
  {
   "cell_type": "code",
   "execution_count": 1,
   "metadata": {},
   "outputs": [],
   "source": [
    "import numpy as np\n",
    "from sklearn.model_selection import train_test_split\n",
    "import torch\n",
    "from torch.utils.data import Dataset\n",
    "import torch.nn as nn\n",
    "from torch.utils.data import DataLoader\n",
    "from tqdm import tqdm\n",
    "from torch.optim import SGD\n",
    "import matplotlib.pyplot as plt\n",
    "import warnings\n",
    "from IPython.display import display, Latex\n",
    "\n",
    "warnings.filterwarnings(\"ignore\")"
   ]
  },
  {
   "cell_type": "code",
   "execution_count": 4,
   "metadata": {},
   "outputs": [],
   "source": [
    "DIM = 10\n",
    "SIZE = 100_000"
   ]
  },
  {
   "cell_type": "code",
   "execution_count": 5,
   "metadata": {},
   "outputs": [],
   "source": [
    "def generate_data(m, sigma, sigma_z, n=DIM, size=SIZE):\n",
    "    \"\"\"\n",
    "    Generate data according to the problem description. (see above)\n",
    " \n",
    "    Parameters\n",
    "    ----------\n",
    "    m : int\n",
    "        Mean for z sampling.\n",
    "    sigma : float\n",
    "        Standard deviation for z sampling.\n",
    "    sigma_z : float\n",
    "        Standard deviation for x sampling\n",
    "    n : int\n",
    "        The dimension\n",
    "    size : int\n",
    "        Size of the dataset.\n",
    "\n",
    "    Returns\n",
    "    -------\n",
    "    X : np.ndarray\n",
    "    Y : np.ndarray\n",
    "    meta : dict\n",
    "        Metainformation containing (theta, z)\n",
    "    \"\"\"\n",
    "\n",
    "    X, Y = [], []\n",
    "    meta = {}\n",
    "    theta = np.random.uniform(-10, 10, n)\n",
    "    meta['theta'] = theta\n",
    "    meta['z'] = []\n",
    "    \n",
    "    for _ in range(size):\n",
    "        z = np.random.normal(loc=m, scale=sigma ** 2, size=n)\n",
    "        noise = np.random.normal()\n",
    "        y = theta.T @ z + noise\n",
    "\n",
    "        x = np.random.normal(loc=z, scale=sigma_z ** 2)\n",
    "\n",
    "        X += [x]\n",
    "        Y += [y]\n",
    "        meta['z'] += [z]\n",
    "\n",
    "    return np.array(X), np.array(Y), meta\n"
   ]
  },
  {
   "cell_type": "code",
   "execution_count": 6,
   "metadata": {},
   "outputs": [],
   "source": [
    "class Data(Dataset):\n",
    "    def __init__(self, X, y):\n",
    "        self.X = X\n",
    "        self.y = y\n",
    "\n",
    "    def __len__(self):\n",
    "        return len(self.y)\n",
    "\n",
    "    def __getitem__(self, idx):\n",
    "        return torch.tensor(self.X[idx], dtype=torch.float), torch.tensor(self.y[idx], dtype=torch.float)"
   ]
  },
  {
   "cell_type": "code",
   "execution_count": 7,
   "metadata": {},
   "outputs": [],
   "source": [
    "def train(model, train_dataloader, val_dataloader, loss_fn, optimizer, n_epochs=300, early_stop=True):\n",
    "    train_loss = []\n",
    "    val_loss = []\n",
    "    for _ in tqdm(range(n_epochs), colour='CYAN'):\n",
    "        model.train()\n",
    "        total_loss = 0.\n",
    "        total_cnt = 0\n",
    "        for data in train_dataloader:\n",
    "            inputs, labels = data\n",
    "            optimizer.zero_grad()\n",
    "            outputs = model(inputs)\n",
    "            loss = loss_fn(outputs, labels)\n",
    "            loss.backward()\n",
    "\n",
    "            optimizer.step()\n",
    "\n",
    "            total_cnt += labels.shape[0]\n",
    "            total_loss += loss.item() * labels.shape[0]\n",
    "\n",
    "        train_loss.append(total_loss / total_cnt)\n",
    "\n",
    "        model.eval()\n",
    "        total_loss = 0.\n",
    "        total_cnt = 0\n",
    "        with torch.no_grad():\n",
    "            for vdata in val_dataloader:\n",
    "                vinputs, vlabels = vdata\n",
    "                voutputs = model(vinputs)\n",
    "                vloss = loss_fn(voutputs, vlabels)\n",
    "                total_cnt += labels.shape[0]\n",
    "                total_loss += vloss.item() * labels.shape[0]\n",
    "        \n",
    "        val_loss.append(total_loss / total_cnt)\n",
    "\n",
    "        if _ % 10 == 0:\n",
    "            tqdm.write('LOSS: train {}, validation {}'.format(train_loss[-1], val_loss[-1]))\n",
    "        \n",
    "        if early_stop and _ > 10 and (max(val_loss[-10:]) - min(val_loss[-10:])) < 0.01: # if loss doesn't change over the last 10 epochs we stop\n",
    "            train_loss += [train_loss[-1]] * (n_epochs - len(train_loss))\n",
    "            val_loss += [val_loss[-1]] * (n_epochs - len(val_loss))\n",
    "            return train_loss, val_loss\n",
    "\n",
    "    return train_loss, val_loss"
   ]
  },
  {
   "cell_type": "code",
   "execution_count": 8,
   "metadata": {},
   "outputs": [],
   "source": [
    "def compare(m, sigma, sigma_z, test_size=0.2, batch_size=1024, lr=3e-3, n_epochs=300):\n",
    "    \"\"\"\n",
    "        Generate data and then compare models with and without Layer Norm.\n",
    "    \n",
    "        Parameters\n",
    "        ----------\n",
    "        m : int\n",
    "            Mean for z sampling.\n",
    "        sigma : float\n",
    "            Standard deviation for z sampling.\n",
    "        sigma_z : float\n",
    "            Standard deviation for x sampling\n",
    "        test_size : float\n",
    "            What part use for testing.\n",
    "\n",
    "        Returns\n",
    "        -------\n",
    "        tr : list:\n",
    "            Average loss on every epoch for the train data for the model without layer norm.\n",
    "        tst : list:\n",
    "            Average loss on every epoch for the test data for the model without layer norm.\n",
    "        tr_n : list:\n",
    "            Average loss on every epoch for the train data for the model with layer norm.\n",
    "        tst_n : list:\n",
    "            Average loss on every epoch for the test data for the model with layer norm.\n",
    "        \n",
    "    \"\"\"\n",
    "    X, y, meta = generate_data(m, sigma, sigma_z)\n",
    "    X_train, X_test, y_train, y_test = train_test_split(\n",
    "        X, y, test_size=test_size\n",
    "    )\n",
    "\n",
    "    train_dataset = Data(X_train, y_train)\n",
    "    test_dataset = Data(X_test, y_test)\n",
    "\n",
    "    train_dataloader = DataLoader(train_dataset, batch_size=batch_size)\n",
    "    test_dataloader = DataLoader(test_dataset, batch_size=batch_size)\n",
    "\n",
    "    model_base = nn.Sequential(\n",
    "    nn.Linear(DIM, 1)\n",
    "    )\n",
    "\n",
    "    model_norm = nn.Sequential(\n",
    "        nn.LayerNorm(DIM, elementwise_affine=False),\n",
    "        nn.Linear(DIM, 1)\n",
    "    )\n",
    "\n",
    "    optimizer = SGD(model_base.parameters(), lr=lr)\n",
    "    tr, tst = train(model_base, train_dataloader, test_dataloader, nn.MSELoss(), optimizer, n_epochs=n_epochs)\n",
    "\n",
    "    print('Switching models')\n",
    "\n",
    "    optimizer_n = SGD(model_norm.parameters(), lr=lr)\n",
    "    tr_n, tst_n = train(model_norm, train_dataloader, test_dataloader, nn.MSELoss(), optimizer_n, n_epochs=n_epochs)\n",
    "\n",
    "    return tr, tst, tr_n, tst_n"
   ]
  },
  {
   "cell_type": "code",
   "execution_count": 9,
   "metadata": {},
   "outputs": [],
   "source": [
    "def plot_results(tr, tst, tr_n, tst_n, skip_first=0):\n",
    "    \"\"\"\n",
    "        Plot the results of experiments.\n",
    "\n",
    "        Parameters\n",
    "        ----------\n",
    "        skip_first : int\n",
    "        How many first observations to skip. (Inititally loss is very big and it makes it hard to notice any difference between experiments)\n",
    "    \"\"\"\n",
    "    plt.plot(tr_n[skip_first:], label='train_w_layer_norm')\n",
    "    plt.plot(tst_n[skip_first:], label='test_w_layer_norm')\n",
    "    plt.plot(tr[skip_first:], label='train_wo_norm')\n",
    "    plt.plot(tst[skip_first:], label='test_wo_norm')\n",
    "    plt.xlabel(\"Epochs\")\n",
    "    plt.ylabel(\"MSE\")\n",
    "    plt.legend()\n",
    "    print('Final loss on train:')\n",
    "    print(f'With layer_norm {tr_n[-1]}, without {tr[-1]}')\n",
    "    print('-' * 50)\n",
    "    print('Final loss on test:')\n",
    "    print(f'With layer_norm {tst_n[-1]}, without {tst[-1]}')"
   ]
  },
  {
   "cell_type": "markdown",
   "metadata": {},
   "source": [
    "Qualitatively there are 3 main regimes for $\\sigma$ and $m$:<br>\n",
    "1) $|m| \\sim \\sigma$\n",
    "2) $|m| \\gg \\sigma$\n",
    "3) $|m| \\ll \\sigma$ <br>\n",
    "\n",
    "Bellow we will provide multiple experiments for each regime and analyze them. "
   ]
  },
  {
   "cell_type": "markdown",
   "metadata": {},
   "source": [
    "### $|m| \\sim \\sigma$"
   ]
  },
  {
   "cell_type": "code",
   "execution_count": 8,
   "metadata": {},
   "outputs": [
    {
     "name": "stderr",
     "output_type": "stream",
     "text": [
      "  0%|\u001b[36m          \u001b[0m| 1/300 [00:00<03:34,  1.39it/s]"
     ]
    },
    {
     "name": "stdout",
     "output_type": "stream",
     "text": [
      "LOSS: train 30.8428029296875, validation 18.192066383361816\n"
     ]
    },
    {
     "name": "stderr",
     "output_type": "stream",
     "text": [
      "  4%|\u001b[36m▎         \u001b[0m| 11/300 [00:06<02:50,  1.70it/s]"
     ]
    },
    {
     "name": "stdout",
     "output_type": "stream",
     "text": [
      "LOSS: train 13.424857415771484, validation 13.275061702728271\n"
     ]
    },
    {
     "name": "stderr",
     "output_type": "stream",
     "text": [
      "  7%|\u001b[36m▋         \u001b[0m| 21/300 [00:12<02:34,  1.80it/s]"
     ]
    },
    {
     "name": "stdout",
     "output_type": "stream",
     "text": [
      "LOSS: train 12.274618112182617, validation 12.186207342147828\n"
     ]
    },
    {
     "name": "stderr",
     "output_type": "stream",
     "text": [
      " 10%|\u001b[36m█         \u001b[0m| 31/300 [00:17<02:29,  1.79it/s]"
     ]
    },
    {
     "name": "stdout",
     "output_type": "stream",
     "text": [
      "LOSS: train 11.92018817138672, validation 11.848370504379272\n"
     ]
    },
    {
     "name": "stderr",
     "output_type": "stream",
     "text": [
      " 14%|\u001b[36m█▎        \u001b[0m| 41/300 [00:23<02:32,  1.70it/s]"
     ]
    },
    {
     "name": "stdout",
     "output_type": "stream",
     "text": [
      "LOSS: train 11.810895043945312, validation 11.742981386184692\n"
     ]
    },
    {
     "name": "stderr",
     "output_type": "stream",
     "text": [
      " 17%|\u001b[36m█▋        \u001b[0m| 50/300 [00:29<02:27,  1.69it/s]\n"
     ]
    },
    {
     "name": "stdout",
     "output_type": "stream",
     "text": [
      "LOSS: train 11.777231880187989, validation 11.709848976135254\n",
      "Switching models\n"
     ]
    },
    {
     "name": "stderr",
     "output_type": "stream",
     "text": [
      "  0%|\u001b[36m          \u001b[0m| 1/300 [00:00<02:39,  1.87it/s]"
     ]
    },
    {
     "name": "stdout",
     "output_type": "stream",
     "text": [
      "LOSS: train 49.93067067871094, validation 34.519859313964844\n"
     ]
    },
    {
     "name": "stderr",
     "output_type": "stream",
     "text": [
      "  4%|\u001b[36m▎         \u001b[0m| 11/300 [00:06<02:46,  1.73it/s]"
     ]
    },
    {
     "name": "stdout",
     "output_type": "stream",
     "text": [
      "LOSS: train 11.764312591552734, validation 11.697285318374634\n"
     ]
    },
    {
     "name": "stderr",
     "output_type": "stream",
     "text": [
      "  4%|\u001b[36m▍         \u001b[0m| 13/300 [00:07<02:56,  1.63it/s]\n"
     ]
    },
    {
     "name": "stdout",
     "output_type": "stream",
     "text": [
      "Final loss on train:\n",
      "With layer_norm 11.762165028381348, without 11.777231880187989\n",
      "--------------------------------------------------\n",
      "Final loss on test:\n",
      "With layer_norm 11.694595193862915, without 11.709848976135254\n"
     ]
    },
    {
     "data": {
      "image/png": "[encoded data removed]",
      "text/plain": [
       "<Figure size 640x480 with 1 Axes>"
      ]
     },
     "metadata": {},
     "output_type": "display_data"
    }
   ],
   "source": [
    "m = 0.5\n",
    "sigma = 0.5\n",
    "tr, tst, tr_n, tst_n = compare(m, sigma, 0.8)\n",
    "\n",
    "plt.title(f'$\\sigma \\sim |m|$, m={m}, $\\sigma$={sigma}')\n",
    "plot_results(tr, tst, tr_n, tst_n, skip_first=6)"
   ]
  },
  {
   "cell_type": "code",
   "execution_count": 9,
   "metadata": {},
   "outputs": [
    {
     "name": "stderr",
     "output_type": "stream",
     "text": [
      "  1%|\u001b[36m          \u001b[0m| 1/100 [00:00<00:59,  1.67it/s]"
     ]
    },
    {
     "name": "stdout",
     "output_type": "stream",
     "text": [
      "LOSS: train 942.83513828125, validation 911.3437255859375\n"
     ]
    },
    {
     "name": "stderr",
     "output_type": "stream",
     "text": [
      " 11%|\u001b[36m█         \u001b[0m| 11/100 [00:06<00:54,  1.65it/s]"
     ]
    },
    {
     "name": "stdout",
     "output_type": "stream",
     "text": [
      "LOSS: train 854.2011791015625, validation 848.8103912353515\n"
     ]
    },
    {
     "name": "stderr",
     "output_type": "stream",
     "text": [
      " 21%|\u001b[36m██        \u001b[0m| 21/100 [00:12<00:46,  1.69it/s]"
     ]
    },
    {
     "name": "stdout",
     "output_type": "stream",
     "text": [
      "LOSS: train 832.721675390625, validation 828.2529205322265\n"
     ]
    },
    {
     "name": "stderr",
     "output_type": "stream",
     "text": [
      " 31%|\u001b[36m███       \u001b[0m| 31/100 [00:18<00:39,  1.73it/s]"
     ]
    },
    {
     "name": "stdout",
     "output_type": "stream",
     "text": [
      "LOSS: train 825.703611328125, validation 821.4518493652344\n"
     ]
    },
    {
     "name": "stderr",
     "output_type": "stream",
     "text": [
      " 41%|\u001b[36m████      \u001b[0m| 41/100 [00:24<00:35,  1.66it/s]"
     ]
    },
    {
     "name": "stdout",
     "output_type": "stream",
     "text": [
      "LOSS: train 823.4096168945313, validation 819.1806549072265\n"
     ]
    },
    {
     "name": "stderr",
     "output_type": "stream",
     "text": [
      " 51%|\u001b[36m█████     \u001b[0m| 51/100 [00:30<00:29,  1.68it/s]"
     ]
    },
    {
     "name": "stdout",
     "output_type": "stream",
     "text": [
      "LOSS: train 822.6592122070313, validation 818.4102264404297\n"
     ]
    },
    {
     "name": "stderr",
     "output_type": "stream",
     "text": [
      " 61%|\u001b[36m██████    \u001b[0m| 61/100 [00:36<00:23,  1.68it/s]"
     ]
    },
    {
     "name": "stdout",
     "output_type": "stream",
     "text": [
      "LOSS: train 822.4134283203125, validation 818.142221069336\n"
     ]
    },
    {
     "name": "stderr",
     "output_type": "stream",
     "text": [
      " 71%|\u001b[36m███████   \u001b[0m| 71/100 [00:42<00:17,  1.67it/s]"
     ]
    },
    {
     "name": "stdout",
     "output_type": "stream",
     "text": [
      "LOSS: train 822.332737890625, validation 818.0453002929687\n"
     ]
    },
    {
     "name": "stderr",
     "output_type": "stream",
     "text": [
      " 81%|\u001b[36m████████  \u001b[0m| 81/100 [00:48<00:11,  1.61it/s]"
     ]
    },
    {
     "name": "stdout",
     "output_type": "stream",
     "text": [
      "LOSS: train 822.3061578125, validation 818.00830078125\n"
     ]
    },
    {
     "name": "stderr",
     "output_type": "stream",
     "text": [
      " 81%|\u001b[36m████████  \u001b[0m| 81/100 [00:49<00:11,  1.64it/s]\n"
     ]
    },
    {
     "name": "stdout",
     "output_type": "stream",
     "text": [
      "Switching models\n"
     ]
    },
    {
     "name": "stderr",
     "output_type": "stream",
     "text": [
      "  1%|\u001b[36m          \u001b[0m| 1/100 [00:00<00:59,  1.65it/s]"
     ]
    },
    {
     "name": "stdout",
     "output_type": "stream",
     "text": [
      "LOSS: train 1427.235408203125, validation 1184.7100646972656\n"
     ]
    },
    {
     "name": "stderr",
     "output_type": "stream",
     "text": [
      " 11%|\u001b[36m█         \u001b[0m| 11/100 [00:06<00:56,  1.56it/s]"
     ]
    },
    {
     "name": "stdout",
     "output_type": "stream",
     "text": [
      "LOSS: train 822.2471881835937, validation 818.0319305419922\n"
     ]
    },
    {
     "name": "stderr",
     "output_type": "stream",
     "text": [
      " 18%|\u001b[36m█▊        \u001b[0m| 18/100 [00:12<00:54,  1.50it/s]"
     ]
    },
    {
     "name": "stdout",
     "output_type": "stream",
     "text": [
      "Final loss on train:\n",
      "With layer_norm 822.2035581054688, without 822.3047831054688\n",
      "--------------------------------------------------\n",
      "Final loss on test:\n",
      "With layer_norm 817.9365997314453, without 818.0061218261719\n"
     ]
    },
    {
     "name": "stderr",
     "output_type": "stream",
     "text": [
      "\n"
     ]
    },
    {
     "data": {
      "image/png": "[encoded data removed]",
      "text/plain": [
       "<Figure size 640x480 with 1 Axes>"
      ]
     },
     "metadata": {},
     "output_type": "display_data"
    }
   ],
   "source": [
    "m = -2\n",
    "sigma = 1.5\n",
    "\n",
    "tr, tst, tr_n, tst_n = compare(m, sigma, 0.8, n_epochs=100)\n",
    "\n",
    "plt.title(f'$\\sigma \\sim |m|$, m={m}, $\\sigma$={sigma}')\n",
    "plot_results(tr, tst, tr_n, tst_n, skip_first=6)"
   ]
  },
  {
   "cell_type": "markdown",
   "metadata": {},
   "source": [
    "### $|m| \\gg \\sigma$"
   ]
  },
  {
   "cell_type": "code",
   "execution_count": 18,
   "metadata": {},
   "outputs": [
    {
     "name": "stderr",
     "output_type": "stream",
     "text": [
      "  0%|\u001b[36m          \u001b[0m| 1/400 [00:00<04:47,  1.39it/s]"
     ]
    },
    {
     "name": "stdout",
     "output_type": "stream",
     "text": [
      "LOSS: train 10.01355347290039, validation 3.4513593673706056\n"
     ]
    },
    {
     "name": "stderr",
     "output_type": "stream",
     "text": [
      "  3%|\u001b[36m▎         \u001b[0m| 11/400 [00:08<04:43,  1.37it/s]"
     ]
    },
    {
     "name": "stdout",
     "output_type": "stream",
     "text": [
      "LOSS: train 3.2814024887084963, validation 3.326979410648346\n"
     ]
    },
    {
     "name": "stderr",
     "output_type": "stream",
     "text": [
      "  5%|\u001b[36m▌         \u001b[0m| 21/400 [00:14<04:25,  1.43it/s]"
     ]
    },
    {
     "name": "stdout",
     "output_type": "stream",
     "text": [
      "LOSS: train 3.2065926418304445, validation 3.2500679731369018\n"
     ]
    },
    {
     "name": "stderr",
     "output_type": "stream",
     "text": [
      "  8%|\u001b[36m▊         \u001b[0m| 31/400 [00:21<03:46,  1.63it/s]"
     ]
    },
    {
     "name": "stdout",
     "output_type": "stream",
     "text": [
      "LOSS: train 3.1358393539428713, validation 3.177505314350128\n"
     ]
    },
    {
     "name": "stderr",
     "output_type": "stream",
     "text": [
      " 10%|\u001b[36m█         \u001b[0m| 41/400 [00:27<03:48,  1.57it/s]"
     ]
    },
    {
     "name": "stdout",
     "output_type": "stream",
     "text": [
      "LOSS: train 3.0680419635772704, validation 3.1080159187316894\n"
     ]
    },
    {
     "name": "stderr",
     "output_type": "stream",
     "text": [
      " 13%|\u001b[36m█▎        \u001b[0m| 51/400 [00:34<04:03,  1.43it/s]"
     ]
    },
    {
     "name": "stdout",
     "output_type": "stream",
     "text": [
      "LOSS: train 3.0030605060577393, validation 3.04141446352005\n"
     ]
    },
    {
     "name": "stderr",
     "output_type": "stream",
     "text": [
      " 15%|\u001b[36m█▌        \u001b[0m| 61/400 [00:41<03:51,  1.47it/s]"
     ]
    },
    {
     "name": "stdout",
     "output_type": "stream",
     "text": [
      "LOSS: train 2.940777862548828, validation 2.9775745987892153\n"
     ]
    },
    {
     "name": "stderr",
     "output_type": "stream",
     "text": [
      " 18%|\u001b[36m█▊        \u001b[0m| 71/400 [00:48<03:48,  1.44it/s]"
     ]
    },
    {
     "name": "stdout",
     "output_type": "stream",
     "text": [
      "LOSS: train 2.8810822578430177, validation 2.916382896900177\n"
     ]
    },
    {
     "name": "stderr",
     "output_type": "stream",
     "text": [
      " 20%|\u001b[36m██        \u001b[0m| 81/400 [00:55<03:48,  1.40it/s]"
     ]
    },
    {
     "name": "stdout",
     "output_type": "stream",
     "text": [
      "LOSS: train 2.823865715408325, validation 2.8577274441719056\n"
     ]
    },
    {
     "name": "stderr",
     "output_type": "stream",
     "text": [
      " 23%|\u001b[36m██▎       \u001b[0m| 91/400 [01:02<03:25,  1.51it/s]"
     ]
    },
    {
     "name": "stdout",
     "output_type": "stream",
     "text": [
      "LOSS: train 2.7690252117156984, validation 2.801503372192383\n"
     ]
    },
    {
     "name": "stderr",
     "output_type": "stream",
     "text": [
      " 25%|\u001b[36m██▌       \u001b[0m| 101/400 [01:09<03:22,  1.48it/s]"
     ]
    },
    {
     "name": "stdout",
     "output_type": "stream",
     "text": [
      "LOSS: train 2.716462100982666, validation 2.7476093053817747\n"
     ]
    },
    {
     "name": "stderr",
     "output_type": "stream",
     "text": [
      " 28%|\u001b[36m██▊       \u001b[0m| 111/400 [01:16<03:05,  1.56it/s]"
     ]
    },
    {
     "name": "stdout",
     "output_type": "stream",
     "text": [
      "LOSS: train 2.6660820793151854, validation 2.6959500312805176\n"
     ]
    },
    {
     "name": "stderr",
     "output_type": "stream",
     "text": [
      " 30%|\u001b[36m███       \u001b[0m| 121/400 [01:22<03:00,  1.55it/s]"
     ]
    },
    {
     "name": "stdout",
     "output_type": "stream",
     "text": [
      "LOSS: train 2.617795045089722, validation 2.646432435512543\n"
     ]
    },
    {
     "name": "stderr",
     "output_type": "stream",
     "text": [
      " 33%|\u001b[36m███▎      \u001b[0m| 131/400 [01:28<02:51,  1.56it/s]"
     ]
    },
    {
     "name": "stdout",
     "output_type": "stream",
     "text": [
      "LOSS: train 2.5715128761291504, validation 2.5989667773246765\n"
     ]
    },
    {
     "name": "stderr",
     "output_type": "stream",
     "text": [
      " 35%|\u001b[36m███▌      \u001b[0m| 141/400 [01:35<02:52,  1.50it/s]"
     ]
    },
    {
     "name": "stdout",
     "output_type": "stream",
     "text": [
      "LOSS: train 2.5271536613464356, validation 2.5534689903259276\n"
     ]
    },
    {
     "name": "stderr",
     "output_type": "stream",
     "text": [
      " 38%|\u001b[36m███▊      \u001b[0m| 151/400 [01:42<02:44,  1.52it/s]"
     ]
    },
    {
     "name": "stdout",
     "output_type": "stream",
     "text": [
      "LOSS: train 2.4846363311767576, validation 2.509856808185577\n"
     ]
    },
    {
     "name": "stderr",
     "output_type": "stream",
     "text": [
      " 40%|\u001b[36m████      \u001b[0m| 161/400 [01:48<02:33,  1.55it/s]"
     ]
    },
    {
     "name": "stdout",
     "output_type": "stream",
     "text": [
      "LOSS: train 2.443884939575195, validation 2.4680519223213198\n"
     ]
    },
    {
     "name": "stderr",
     "output_type": "stream",
     "text": [
      " 43%|\u001b[36m████▎     \u001b[0m| 171/400 [01:54<02:17,  1.67it/s]"
     ]
    },
    {
     "name": "stdout",
     "output_type": "stream",
     "text": [
      "LOSS: train 2.404825949478149, validation 2.4279797077178955\n"
     ]
    },
    {
     "name": "stderr",
     "output_type": "stream",
     "text": [
      " 45%|\u001b[36m████▌     \u001b[0m| 181/400 [02:01<02:14,  1.63it/s]"
     ]
    },
    {
     "name": "stdout",
     "output_type": "stream",
     "text": [
      "LOSS: train 2.367388440322876, validation 2.3895673751831055\n"
     ]
    },
    {
     "name": "stderr",
     "output_type": "stream",
     "text": [
      " 48%|\u001b[36m████▊     \u001b[0m| 191/400 [02:07<02:11,  1.59it/s]"
     ]
    },
    {
     "name": "stdout",
     "output_type": "stream",
     "text": [
      "LOSS: train 2.33150712890625, validation 2.3527480363845825\n"
     ]
    },
    {
     "name": "stderr",
     "output_type": "stream",
     "text": [
      " 50%|\u001b[36m█████     \u001b[0m| 201/400 [02:13<02:05,  1.58it/s]"
     ]
    },
    {
     "name": "stdout",
     "output_type": "stream",
     "text": [
      "LOSS: train 2.297115696334839, validation 2.317453992366791\n"
     ]
    },
    {
     "name": "stderr",
     "output_type": "stream",
     "text": [
      " 53%|\u001b[36m█████▎    \u001b[0m| 211/400 [02:20<02:00,  1.56it/s]"
     ]
    },
    {
     "name": "stdout",
     "output_type": "stream",
     "text": [
      "LOSS: train 2.2641534156799317, validation 2.28362318277359\n"
     ]
    },
    {
     "name": "stderr",
     "output_type": "stream",
     "text": [
      " 55%|\u001b[36m█████▌    \u001b[0m| 221/400 [02:26<01:55,  1.55it/s]"
     ]
    },
    {
     "name": "stdout",
     "output_type": "stream",
     "text": [
      "LOSS: train 2.232558869934082, validation 2.2511929512023925\n"
     ]
    },
    {
     "name": "stderr",
     "output_type": "stream",
     "text": [
      " 58%|\u001b[36m█████▊    \u001b[0m| 231/400 [02:32<01:41,  1.67it/s]"
     ]
    },
    {
     "name": "stdout",
     "output_type": "stream",
     "text": [
      "LOSS: train 2.2022781818389894, validation 2.2201076626777647\n"
     ]
    },
    {
     "name": "stderr",
     "output_type": "stream",
     "text": [
      " 60%|\u001b[36m██████    \u001b[0m| 241/400 [02:39<01:54,  1.39it/s]"
     ]
    },
    {
     "name": "stdout",
     "output_type": "stream",
     "text": [
      "LOSS: train 2.1732544021606444, validation 2.1903099536895754\n"
     ]
    },
    {
     "name": "stderr",
     "output_type": "stream",
     "text": [
      " 63%|\u001b[36m██████▎   \u001b[0m| 251/400 [02:46<01:47,  1.38it/s]"
     ]
    },
    {
     "name": "stdout",
     "output_type": "stream",
     "text": [
      "LOSS: train 2.1454367935180665, validation 2.1617470383644104\n"
     ]
    },
    {
     "name": "stderr",
     "output_type": "stream",
     "text": [
      " 65%|\u001b[36m██████▌   \u001b[0m| 261/400 [02:53<01:40,  1.38it/s]"
     ]
    },
    {
     "name": "stdout",
     "output_type": "stream",
     "text": [
      "LOSS: train 2.1187732688903806, validation 2.1343664050102236\n"
     ]
    },
    {
     "name": "stderr",
     "output_type": "stream",
     "text": [
      " 68%|\u001b[36m██████▊   \u001b[0m| 271/400 [03:01<01:40,  1.29it/s]"
     ]
    },
    {
     "name": "stdout",
     "output_type": "stream",
     "text": [
      "LOSS: train 2.0932188159942626, validation 2.1081211090087892\n"
     ]
    },
    {
     "name": "stderr",
     "output_type": "stream",
     "text": [
      " 70%|\u001b[36m███████   \u001b[0m| 281/400 [03:09<01:36,  1.23it/s]"
     ]
    },
    {
     "name": "stdout",
     "output_type": "stream",
     "text": [
      "LOSS: train 2.0687247520446777, validation 2.0829619228839875\n"
     ]
    },
    {
     "name": "stderr",
     "output_type": "stream",
     "text": [
      " 73%|\u001b[36m███████▎  \u001b[0m| 291/400 [03:16<01:24,  1.30it/s]"
     ]
    },
    {
     "name": "stdout",
     "output_type": "stream",
     "text": [
      "LOSS: train 2.0452486358642576, validation 2.058845764398575\n"
     ]
    },
    {
     "name": "stderr",
     "output_type": "stream",
     "text": [
      " 75%|\u001b[36m███████▌  \u001b[0m| 301/400 [03:25<01:20,  1.23it/s]"
     ]
    },
    {
     "name": "stdout",
     "output_type": "stream",
     "text": [
      "LOSS: train 2.022745154953003, validation 2.0357258021831512\n"
     ]
    },
    {
     "name": "stderr",
     "output_type": "stream",
     "text": [
      " 78%|\u001b[36m███████▊  \u001b[0m| 311/400 [03:32<01:07,  1.32it/s]"
     ]
    },
    {
     "name": "stdout",
     "output_type": "stream",
     "text": [
      "LOSS: train 2.0011773937225343, validation 2.013564646244049\n"
     ]
    },
    {
     "name": "stderr",
     "output_type": "stream",
     "text": [
      " 80%|\u001b[36m████████  \u001b[0m| 321/400 [03:40<00:58,  1.35it/s]"
     ]
    },
    {
     "name": "stdout",
     "output_type": "stream",
     "text": [
      "LOSS: train 1.9805061777114867, validation 1.9923214793205262\n"
     ]
    },
    {
     "name": "stderr",
     "output_type": "stream",
     "text": [
      " 83%|\u001b[36m████████▎ \u001b[0m| 331/400 [03:47<00:50,  1.36it/s]"
     ]
    },
    {
     "name": "stdout",
     "output_type": "stream",
     "text": [
      "LOSS: train 1.9606922534942628, validation 1.9719568192958832\n"
     ]
    },
    {
     "name": "stderr",
     "output_type": "stream",
     "text": [
      " 85%|\u001b[36m████████▌ \u001b[0m| 341/400 [03:55<00:43,  1.36it/s]"
     ]
    },
    {
     "name": "stdout",
     "output_type": "stream",
     "text": [
      "LOSS: train 1.94170219745636, validation 1.9524368166923523\n"
     ]
    },
    {
     "name": "stderr",
     "output_type": "stream",
     "text": [
      " 88%|\u001b[36m████████▊ \u001b[0m| 351/400 [04:02<00:36,  1.36it/s]"
     ]
    },
    {
     "name": "stdout",
     "output_type": "stream",
     "text": [
      "LOSS: train 1.9235016792297364, validation 1.933725357055664\n"
     ]
    },
    {
     "name": "stderr",
     "output_type": "stream",
     "text": [
      " 90%|\u001b[36m█████████ \u001b[0m| 361/400 [04:10<00:29,  1.33it/s]"
     ]
    },
    {
     "name": "stdout",
     "output_type": "stream",
     "text": [
      "LOSS: train 1.906055622291565, validation 1.9157869458198546\n"
     ]
    },
    {
     "name": "stderr",
     "output_type": "stream",
     "text": [
      " 93%|\u001b[36m█████████▎\u001b[0m| 371/400 [04:17<00:21,  1.33it/s]"
     ]
    },
    {
     "name": "stdout",
     "output_type": "stream",
     "text": [
      "LOSS: train 1.889333984375, validation 1.898591196537018\n"
     ]
    },
    {
     "name": "stderr",
     "output_type": "stream",
     "text": [
      " 95%|\u001b[36m█████████▌\u001b[0m| 381/400 [04:25<00:14,  1.33it/s]"
     ]
    },
    {
     "name": "stdout",
     "output_type": "stream",
     "text": [
      "LOSS: train 1.8733080261230468, validation 1.8821082174777986\n"
     ]
    },
    {
     "name": "stderr",
     "output_type": "stream",
     "text": [
      " 98%|\u001b[36m█████████▊\u001b[0m| 391/400 [04:32<00:06,  1.32it/s]"
     ]
    },
    {
     "name": "stdout",
     "output_type": "stream",
     "text": [
      "LOSS: train 1.857947488975525, validation 1.8663073539733888\n"
     ]
    },
    {
     "name": "stderr",
     "output_type": "stream",
     "text": [
      "100%|\u001b[36m██████████\u001b[0m| 400/400 [04:39<00:00,  1.43it/s]\n"
     ]
    },
    {
     "name": "stdout",
     "output_type": "stream",
     "text": [
      "Switching models\n"
     ]
    },
    {
     "name": "stderr",
     "output_type": "stream",
     "text": [
      "  0%|\u001b[36m          \u001b[0m| 1/400 [00:00<04:07,  1.61it/s]"
     ]
    },
    {
     "name": "stdout",
     "output_type": "stream",
     "text": [
      "LOSS: train 271.14923586425783, validation 161.4889129638672\n"
     ]
    },
    {
     "name": "stderr",
     "output_type": "stream",
     "text": [
      "  3%|\u001b[36m▎         \u001b[0m| 11/400 [00:07<04:24,  1.47it/s]"
     ]
    },
    {
     "name": "stdout",
     "output_type": "stream",
     "text": [
      "LOSS: train 1.5230562917709352, validation 1.5067736566066743\n"
     ]
    },
    {
     "name": "stderr",
     "output_type": "stream",
     "text": [
      "  5%|\u001b[36m▌         \u001b[0m| 21/400 [00:14<04:17,  1.47it/s]"
     ]
    },
    {
     "name": "stdout",
     "output_type": "stream",
     "text": [
      "LOSS: train 1.5031666120529175, validation 1.4934549152851104\n"
     ]
    },
    {
     "name": "stderr",
     "output_type": "stream",
     "text": [
      "  8%|\u001b[36m▊         \u001b[0m| 31/400 [00:20<04:09,  1.48it/s]"
     ]
    },
    {
     "name": "stdout",
     "output_type": "stream",
     "text": [
      "LOSS: train 1.5031664979934691, validation 1.4934415161609649\n"
     ]
    },
    {
     "name": "stderr",
     "output_type": "stream",
     "text": [
      " 10%|\u001b[36m█         \u001b[0m| 41/400 [00:27<03:56,  1.51it/s]"
     ]
    },
    {
     "name": "stdout",
     "output_type": "stream",
     "text": [
      "LOSS: train 1.503166478729248, validation 1.4934414446353912\n"
     ]
    },
    {
     "name": "stderr",
     "output_type": "stream",
     "text": [
      " 13%|\u001b[36m█▎        \u001b[0m| 51/400 [00:34<03:53,  1.49it/s]"
     ]
    },
    {
     "name": "stdout",
     "output_type": "stream",
     "text": [
      "LOSS: train 1.503166480255127, validation 1.4934414386749268\n"
     ]
    },
    {
     "name": "stderr",
     "output_type": "stream",
     "text": [
      " 15%|\u001b[36m█▌        \u001b[0m| 61/400 [00:41<03:51,  1.47it/s]"
     ]
    },
    {
     "name": "stdout",
     "output_type": "stream",
     "text": [
      "LOSS: train 1.503166480255127, validation 1.4934414386749268\n"
     ]
    },
    {
     "name": "stderr",
     "output_type": "stream",
     "text": [
      " 18%|\u001b[36m█▊        \u001b[0m| 71/400 [00:48<03:53,  1.41it/s]"
     ]
    },
    {
     "name": "stdout",
     "output_type": "stream",
     "text": [
      "LOSS: train 1.503166480255127, validation 1.4934414386749268\n"
     ]
    },
    {
     "name": "stderr",
     "output_type": "stream",
     "text": [
      " 20%|\u001b[36m██        \u001b[0m| 81/400 [00:54<03:38,  1.46it/s]"
     ]
    },
    {
     "name": "stdout",
     "output_type": "stream",
     "text": [
      "LOSS: train 1.503166480255127, validation 1.4934414386749268\n"
     ]
    },
    {
     "name": "stderr",
     "output_type": "stream",
     "text": [
      " 23%|\u001b[36m██▎       \u001b[0m| 91/400 [01:01<03:29,  1.47it/s]"
     ]
    },
    {
     "name": "stdout",
     "output_type": "stream",
     "text": [
      "LOSS: train 1.503166480255127, validation 1.4934414386749268\n"
     ]
    },
    {
     "name": "stderr",
     "output_type": "stream",
     "text": [
      " 25%|\u001b[36m██▌       \u001b[0m| 101/400 [01:08<03:17,  1.52it/s]"
     ]
    },
    {
     "name": "stdout",
     "output_type": "stream",
     "text": [
      "LOSS: train 1.503166480255127, validation 1.4934414386749268\n"
     ]
    },
    {
     "name": "stderr",
     "output_type": "stream",
     "text": [
      " 28%|\u001b[36m██▊       \u001b[0m| 111/400 [01:15<03:17,  1.46it/s]"
     ]
    },
    {
     "name": "stdout",
     "output_type": "stream",
     "text": [
      "LOSS: train 1.503166480255127, validation 1.4934414386749268\n"
     ]
    },
    {
     "name": "stderr",
     "output_type": "stream",
     "text": [
      " 30%|\u001b[36m███       \u001b[0m| 121/400 [01:22<03:21,  1.38it/s]"
     ]
    },
    {
     "name": "stdout",
     "output_type": "stream",
     "text": [
      "LOSS: train 1.503166480255127, validation 1.4934414386749268\n"
     ]
    },
    {
     "name": "stderr",
     "output_type": "stream",
     "text": [
      " 33%|\u001b[36m███▎      \u001b[0m| 131/400 [01:29<03:03,  1.46it/s]"
     ]
    },
    {
     "name": "stdout",
     "output_type": "stream",
     "text": [
      "LOSS: train 1.503166480255127, validation 1.4934414386749268\n"
     ]
    },
    {
     "name": "stderr",
     "output_type": "stream",
     "text": [
      " 35%|\u001b[36m███▌      \u001b[0m| 141/400 [01:36<02:55,  1.48it/s]"
     ]
    },
    {
     "name": "stdout",
     "output_type": "stream",
     "text": [
      "LOSS: train 1.503166480255127, validation 1.4934414386749268\n"
     ]
    },
    {
     "name": "stderr",
     "output_type": "stream",
     "text": [
      " 38%|\u001b[36m███▊      \u001b[0m| 151/400 [01:42<02:48,  1.48it/s]"
     ]
    },
    {
     "name": "stdout",
     "output_type": "stream",
     "text": [
      "LOSS: train 1.503166480255127, validation 1.4934414386749268\n"
     ]
    },
    {
     "name": "stderr",
     "output_type": "stream",
     "text": [
      " 40%|\u001b[36m████      \u001b[0m| 161/400 [01:49<02:43,  1.46it/s]"
     ]
    },
    {
     "name": "stdout",
     "output_type": "stream",
     "text": [
      "LOSS: train 1.503166480255127, validation 1.4934414386749268\n"
     ]
    },
    {
     "name": "stderr",
     "output_type": "stream",
     "text": [
      " 43%|\u001b[36m████▎     \u001b[0m| 171/400 [01:56<02:33,  1.50it/s]"
     ]
    },
    {
     "name": "stdout",
     "output_type": "stream",
     "text": [
      "LOSS: train 1.503166480255127, validation 1.4934414386749268\n"
     ]
    },
    {
     "name": "stderr",
     "output_type": "stream",
     "text": [
      " 45%|\u001b[36m████▌     \u001b[0m| 181/400 [02:02<02:27,  1.48it/s]"
     ]
    },
    {
     "name": "stdout",
     "output_type": "stream",
     "text": [
      "LOSS: train 1.503166480255127, validation 1.4934414386749268\n"
     ]
    },
    {
     "name": "stderr",
     "output_type": "stream",
     "text": [
      " 48%|\u001b[36m████▊     \u001b[0m| 191/400 [02:09<02:18,  1.51it/s]"
     ]
    },
    {
     "name": "stdout",
     "output_type": "stream",
     "text": [
      "LOSS: train 1.503166480255127, validation 1.4934414386749268\n"
     ]
    },
    {
     "name": "stderr",
     "output_type": "stream",
     "text": [
      " 50%|\u001b[36m█████     \u001b[0m| 201/400 [02:16<02:10,  1.52it/s]"
     ]
    },
    {
     "name": "stdout",
     "output_type": "stream",
     "text": [
      "LOSS: train 1.503166480255127, validation 1.4934414386749268\n"
     ]
    },
    {
     "name": "stderr",
     "output_type": "stream",
     "text": [
      " 53%|\u001b[36m█████▎    \u001b[0m| 211/400 [02:22<02:04,  1.52it/s]"
     ]
    },
    {
     "name": "stdout",
     "output_type": "stream",
     "text": [
      "LOSS: train 1.503166480255127, validation 1.4934414386749268\n"
     ]
    },
    {
     "name": "stderr",
     "output_type": "stream",
     "text": [
      " 55%|\u001b[36m█████▌    \u001b[0m| 221/400 [02:29<01:57,  1.52it/s]"
     ]
    },
    {
     "name": "stdout",
     "output_type": "stream",
     "text": [
      "LOSS: train 1.503166480255127, validation 1.4934414386749268\n"
     ]
    },
    {
     "name": "stderr",
     "output_type": "stream",
     "text": [
      " 58%|\u001b[36m█████▊    \u001b[0m| 231/400 [02:36<01:54,  1.48it/s]"
     ]
    },
    {
     "name": "stdout",
     "output_type": "stream",
     "text": [
      "LOSS: train 1.503166480255127, validation 1.4934414386749268\n"
     ]
    },
    {
     "name": "stderr",
     "output_type": "stream",
     "text": [
      " 60%|\u001b[36m██████    \u001b[0m| 241/400 [02:43<01:49,  1.45it/s]"
     ]
    },
    {
     "name": "stdout",
     "output_type": "stream",
     "text": [
      "LOSS: train 1.503166480255127, validation 1.4934414386749268\n"
     ]
    },
    {
     "name": "stderr",
     "output_type": "stream",
     "text": [
      " 63%|\u001b[36m██████▎   \u001b[0m| 251/400 [02:49<01:40,  1.49it/s]"
     ]
    },
    {
     "name": "stdout",
     "output_type": "stream",
     "text": [
      "LOSS: train 1.503166480255127, validation 1.4934414386749268\n"
     ]
    },
    {
     "name": "stderr",
     "output_type": "stream",
     "text": [
      " 65%|\u001b[36m██████▌   \u001b[0m| 261/400 [02:56<01:35,  1.46it/s]"
     ]
    },
    {
     "name": "stdout",
     "output_type": "stream",
     "text": [
      "LOSS: train 1.503166480255127, validation 1.4934414386749268\n"
     ]
    },
    {
     "name": "stderr",
     "output_type": "stream",
     "text": [
      " 68%|\u001b[36m██████▊   \u001b[0m| 271/400 [03:03<01:30,  1.42it/s]"
     ]
    },
    {
     "name": "stdout",
     "output_type": "stream",
     "text": [
      "LOSS: train 1.503166480255127, validation 1.4934414386749268\n"
     ]
    },
    {
     "name": "stderr",
     "output_type": "stream",
     "text": [
      " 70%|\u001b[36m███████   \u001b[0m| 281/400 [03:10<01:22,  1.45it/s]"
     ]
    },
    {
     "name": "stdout",
     "output_type": "stream",
     "text": [
      "LOSS: train 1.503166480255127, validation 1.4934414386749268\n"
     ]
    },
    {
     "name": "stderr",
     "output_type": "stream",
     "text": [
      " 73%|\u001b[36m███████▎  \u001b[0m| 291/400 [03:17<01:15,  1.45it/s]"
     ]
    },
    {
     "name": "stdout",
     "output_type": "stream",
     "text": [
      "LOSS: train 1.503166480255127, validation 1.4934414386749268\n"
     ]
    },
    {
     "name": "stderr",
     "output_type": "stream",
     "text": [
      " 75%|\u001b[36m███████▌  \u001b[0m| 301/400 [03:24<01:07,  1.46it/s]"
     ]
    },
    {
     "name": "stdout",
     "output_type": "stream",
     "text": [
      "LOSS: train 1.503166480255127, validation 1.4934414386749268\n"
     ]
    },
    {
     "name": "stderr",
     "output_type": "stream",
     "text": [
      " 78%|\u001b[36m███████▊  \u001b[0m| 311/400 [03:31<00:59,  1.50it/s]"
     ]
    },
    {
     "name": "stdout",
     "output_type": "stream",
     "text": [
      "LOSS: train 1.503166480255127, validation 1.4934414386749268\n"
     ]
    },
    {
     "name": "stderr",
     "output_type": "stream",
     "text": [
      " 80%|\u001b[36m████████  \u001b[0m| 321/400 [03:37<00:52,  1.49it/s]"
     ]
    },
    {
     "name": "stdout",
     "output_type": "stream",
     "text": [
      "LOSS: train 1.503166480255127, validation 1.4934414386749268\n"
     ]
    },
    {
     "name": "stderr",
     "output_type": "stream",
     "text": [
      " 83%|\u001b[36m████████▎ \u001b[0m| 331/400 [03:44<00:46,  1.49it/s]"
     ]
    },
    {
     "name": "stdout",
     "output_type": "stream",
     "text": [
      "LOSS: train 1.503166480255127, validation 1.4934414386749268\n"
     ]
    },
    {
     "name": "stderr",
     "output_type": "stream",
     "text": [
      " 85%|\u001b[36m████████▌ \u001b[0m| 341/400 [03:51<00:40,  1.45it/s]"
     ]
    },
    {
     "name": "stdout",
     "output_type": "stream",
     "text": [
      "LOSS: train 1.503166480255127, validation 1.4934414386749268\n"
     ]
    },
    {
     "name": "stderr",
     "output_type": "stream",
     "text": [
      " 88%|\u001b[36m████████▊ \u001b[0m| 351/400 [03:58<00:33,  1.48it/s]"
     ]
    },
    {
     "name": "stdout",
     "output_type": "stream",
     "text": [
      "LOSS: train 1.503166480255127, validation 1.4934414386749268\n"
     ]
    },
    {
     "name": "stderr",
     "output_type": "stream",
     "text": [
      " 90%|\u001b[36m█████████ \u001b[0m| 361/400 [04:04<00:26,  1.48it/s]"
     ]
    },
    {
     "name": "stdout",
     "output_type": "stream",
     "text": [
      "LOSS: train 1.503166480255127, validation 1.4934414386749268\n"
     ]
    },
    {
     "name": "stderr",
     "output_type": "stream",
     "text": [
      " 93%|\u001b[36m█████████▎\u001b[0m| 371/400 [04:11<00:19,  1.47it/s]"
     ]
    },
    {
     "name": "stdout",
     "output_type": "stream",
     "text": [
      "LOSS: train 1.503166480255127, validation 1.4934414386749268\n"
     ]
    },
    {
     "name": "stderr",
     "output_type": "stream",
     "text": [
      " 95%|\u001b[36m█████████▌\u001b[0m| 381/400 [04:18<00:12,  1.48it/s]"
     ]
    },
    {
     "name": "stdout",
     "output_type": "stream",
     "text": [
      "LOSS: train 1.503166480255127, validation 1.4934414386749268\n"
     ]
    },
    {
     "name": "stderr",
     "output_type": "stream",
     "text": [
      " 98%|\u001b[36m█████████▊\u001b[0m| 391/400 [04:25<00:06,  1.48it/s]"
     ]
    },
    {
     "name": "stdout",
     "output_type": "stream",
     "text": [
      "LOSS: train 1.503166480255127, validation 1.4934414386749268\n"
     ]
    },
    {
     "name": "stderr",
     "output_type": "stream",
     "text": [
      "100%|\u001b[36m██████████\u001b[0m| 400/400 [04:31<00:00,  1.48it/s]"
     ]
    },
    {
     "name": "stdout",
     "output_type": "stream",
     "text": [
      "Final loss on train:\n",
      "With layer_norm 1.503166480255127, without 1.8446694471359253\n",
      "--------------------------------------------------\n",
      "Final loss on test:\n",
      "With layer_norm 1.4934414386749268, without 1.8526470422744752\n"
     ]
    },
    {
     "name": "stderr",
     "output_type": "stream",
     "text": [
      "\n"
     ]
    },
    {
     "data": {
      "image/png": "[encoded data removed]",
      "text/plain": [
       "<Figure size 640x480 with 1 Axes>"
      ]
     },
     "metadata": {},
     "output_type": "display_data"
    }
   ],
   "source": [
    "m = 3\n",
    "sigma = 0.2\n",
    "\n",
    "tr, tst, tr_n, tst_n = compare(m, sigma, 0.8, n_epochs=400)\n",
    "\n",
    "plt.title(f'$\\sigma \\ll |m|$, m={m}, $\\sigma$={sigma}')\n",
    "plot_results(tr, tst, tr_n, tst_n, skip_first=6)"
   ]
  },
  {
   "cell_type": "code",
   "execution_count": 13,
   "metadata": {},
   "outputs": [
    {
     "name": "stderr",
     "output_type": "stream",
     "text": [
      "  0%|\u001b[36m          \u001b[0m| 1/400 [00:00<05:48,  1.15it/s]"
     ]
    },
    {
     "name": "stdout",
     "output_type": "stream",
     "text": [
      "LOSS: train 25.398779501342773, validation 8.464858198165894\n"
     ]
    },
    {
     "name": "stderr",
     "output_type": "stream",
     "text": [
      "  3%|\u001b[36m▎         \u001b[0m| 11/400 [00:09<05:50,  1.11it/s]"
     ]
    },
    {
     "name": "stdout",
     "output_type": "stream",
     "text": [
      "LOSS: train 7.990219778442383, validation 7.867707681655884\n"
     ]
    },
    {
     "name": "stderr",
     "output_type": "stream",
     "text": [
      "  5%|\u001b[36m▌         \u001b[0m| 21/400 [00:17<04:09,  1.52it/s]"
     ]
    },
    {
     "name": "stdout",
     "output_type": "stream",
     "text": [
      "LOSS: train 7.518348306274414, validation 7.40530641078949\n"
     ]
    },
    {
     "name": "stderr",
     "output_type": "stream",
     "text": [
      "  8%|\u001b[36m▊         \u001b[0m| 31/400 [00:23<03:50,  1.60it/s]"
     ]
    },
    {
     "name": "stdout",
     "output_type": "stream",
     "text": [
      "LOSS: train 7.09162140045166, validation 6.987036967277527\n"
     ]
    },
    {
     "name": "stderr",
     "output_type": "stream",
     "text": [
      " 10%|\u001b[36m█         \u001b[0m| 41/400 [00:29<03:45,  1.60it/s]"
     ]
    },
    {
     "name": "stdout",
     "output_type": "stream",
     "text": [
      "LOSS: train 6.7039667442321775, validation 6.6071022033691404\n"
     ]
    },
    {
     "name": "stderr",
     "output_type": "stream",
     "text": [
      " 13%|\u001b[36m█▎        \u001b[0m| 51/400 [00:36<03:59,  1.46it/s]"
     ]
    },
    {
     "name": "stdout",
     "output_type": "stream",
     "text": [
      "LOSS: train 6.351757068634033, validation 6.2619280338287355\n"
     ]
    },
    {
     "name": "stderr",
     "output_type": "stream",
     "text": [
      " 15%|\u001b[36m█▌        \u001b[0m| 61/400 [00:43<03:45,  1.51it/s]"
     ]
    },
    {
     "name": "stdout",
     "output_type": "stream",
     "text": [
      "LOSS: train 6.03174681854248, validation 5.948328065872192\n"
     ]
    },
    {
     "name": "stderr",
     "output_type": "stream",
     "text": [
      " 18%|\u001b[36m█▊        \u001b[0m| 71/400 [00:49<03:29,  1.57it/s]"
     ]
    },
    {
     "name": "stdout",
     "output_type": "stream",
     "text": [
      "LOSS: train 5.740992320251465, validation 5.66341495513916\n"
     ]
    },
    {
     "name": "stderr",
     "output_type": "stream",
     "text": [
      " 20%|\u001b[36m██        \u001b[0m| 81/400 [00:55<03:15,  1.63it/s]"
     ]
    },
    {
     "name": "stdout",
     "output_type": "stream",
     "text": [
      "LOSS: train 5.476817321014404, validation 5.404564285278321\n"
     ]
    },
    {
     "name": "stderr",
     "output_type": "stream",
     "text": [
      " 23%|\u001b[36m██▎       \u001b[0m| 91/400 [01:01<03:04,  1.67it/s]"
     ]
    },
    {
     "name": "stdout",
     "output_type": "stream",
     "text": [
      "LOSS: train 5.236797827148438, validation 5.169395852088928\n"
     ]
    },
    {
     "name": "stderr",
     "output_type": "stream",
     "text": [
      " 25%|\u001b[36m██▌       \u001b[0m| 101/400 [01:10<04:34,  1.09it/s]"
     ]
    },
    {
     "name": "stdout",
     "output_type": "stream",
     "text": [
      "LOSS: train 5.018715673828125, validation 4.9557377099990845\n"
     ]
    },
    {
     "name": "stderr",
     "output_type": "stream",
     "text": [
      " 28%|\u001b[36m██▊       \u001b[0m| 111/400 [01:18<04:07,  1.17it/s]"
     ]
    },
    {
     "name": "stdout",
     "output_type": "stream",
     "text": [
      "LOSS: train 4.820569652557373, validation 4.7616252422332765\n"
     ]
    },
    {
     "name": "stderr",
     "output_type": "stream",
     "text": [
      " 30%|\u001b[36m███       \u001b[0m| 121/400 [01:26<03:49,  1.21it/s]"
     ]
    },
    {
     "name": "stdout",
     "output_type": "stream",
     "text": [
      "LOSS: train 4.640540991210938, validation 4.585273694992066\n"
     ]
    },
    {
     "name": "stderr",
     "output_type": "stream",
     "text": [
      " 33%|\u001b[36m███▎      \u001b[0m| 131/400 [01:35<03:57,  1.13it/s]"
     ]
    },
    {
     "name": "stdout",
     "output_type": "stream",
     "text": [
      "LOSS: train 4.476970899200439, validation 4.4250588655471805\n"
     ]
    },
    {
     "name": "stderr",
     "output_type": "stream",
     "text": [
      " 35%|\u001b[36m███▌      \u001b[0m| 141/400 [01:43<03:36,  1.20it/s]"
     ]
    },
    {
     "name": "stdout",
     "output_type": "stream",
     "text": [
      "LOSS: train 4.328356489562989, validation 4.279503560066223\n"
     ]
    },
    {
     "name": "stderr",
     "output_type": "stream",
     "text": [
      " 38%|\u001b[36m███▊      \u001b[0m| 151/400 [01:52<03:25,  1.21it/s]"
     ]
    },
    {
     "name": "stdout",
     "output_type": "stream",
     "text": [
      "LOSS: train 4.193327334594726, validation 4.147266817092896\n"
     ]
    },
    {
     "name": "stderr",
     "output_type": "stream",
     "text": [
      " 40%|\u001b[36m████      \u001b[0m| 161/400 [02:00<03:18,  1.20it/s]"
     ]
    },
    {
     "name": "stdout",
     "output_type": "stream",
     "text": [
      "LOSS: train 4.070640921020508, validation 4.0271278619766235\n"
     ]
    },
    {
     "name": "stderr",
     "output_type": "stream",
     "text": [
      " 43%|\u001b[36m████▎     \u001b[0m| 171/400 [02:08<03:14,  1.17it/s]"
     ]
    },
    {
     "name": "stdout",
     "output_type": "stream",
     "text": [
      "LOSS: train 3.9591695556640625, validation 3.917981815338135\n"
     ]
    },
    {
     "name": "stderr",
     "output_type": "stream",
     "text": [
      " 45%|\u001b[36m████▌     \u001b[0m| 181/400 [02:17<03:05,  1.18it/s]"
     ]
    },
    {
     "name": "stdout",
     "output_type": "stream",
     "text": [
      "LOSS: train 3.857891059875488, validation 3.8188255190849305\n"
     ]
    },
    {
     "name": "stderr",
     "output_type": "stream",
     "text": [
      " 48%|\u001b[36m████▊     \u001b[0m| 191/400 [02:25<02:51,  1.22it/s]"
     ]
    },
    {
     "name": "stdout",
     "output_type": "stream",
     "text": [
      "LOSS: train 3.7658731163024903, validation 3.7287463665008547\n"
     ]
    },
    {
     "name": "stderr",
     "output_type": "stream",
     "text": [
      " 50%|\u001b[36m█████     \u001b[0m| 201/400 [02:34<02:56,  1.13it/s]"
     ]
    },
    {
     "name": "stdout",
     "output_type": "stream",
     "text": [
      "LOSS: train 3.682265732192993, validation 3.646908700466156\n"
     ]
    },
    {
     "name": "stderr",
     "output_type": "stream",
     "text": [
      " 53%|\u001b[36m█████▎    \u001b[0m| 211/400 [02:42<02:41,  1.17it/s]"
     ]
    },
    {
     "name": "stdout",
     "output_type": "stream",
     "text": [
      "LOSS: train 3.6063025032043456, validation 3.5725624561309814\n"
     ]
    },
    {
     "name": "stderr",
     "output_type": "stream",
     "text": [
      " 55%|\u001b[36m█████▌    \u001b[0m| 221/400 [02:51<02:33,  1.17it/s]"
     ]
    },
    {
     "name": "stdout",
     "output_type": "stream",
     "text": [
      "LOSS: train 3.537284052276611, validation 3.5050214767456054\n"
     ]
    },
    {
     "name": "stderr",
     "output_type": "stream",
     "text": [
      " 58%|\u001b[36m█████▊    \u001b[0m| 231/400 [02:59<02:24,  1.17it/s]"
     ]
    },
    {
     "name": "stdout",
     "output_type": "stream",
     "text": [
      "LOSS: train 3.4745802642822268, validation 3.4436684608459474\n"
     ]
    },
    {
     "name": "stderr",
     "output_type": "stream",
     "text": [
      " 60%|\u001b[36m██████    \u001b[0m| 241/400 [03:08<02:21,  1.12it/s]"
     ]
    },
    {
     "name": "stdout",
     "output_type": "stream",
     "text": [
      "LOSS: train 3.4176034061431886, validation 3.3879252910614013\n"
     ]
    },
    {
     "name": "stderr",
     "output_type": "stream",
     "text": [
      " 63%|\u001b[36m██████▎   \u001b[0m| 251/400 [03:17<02:08,  1.16it/s]"
     ]
    },
    {
     "name": "stdout",
     "output_type": "stream",
     "text": [
      "LOSS: train 3.36583761138916, validation 3.3372882485389708\n"
     ]
    },
    {
     "name": "stderr",
     "output_type": "stream",
     "text": [
      " 65%|\u001b[36m██████▌   \u001b[0m| 261/400 [03:25<02:00,  1.16it/s]"
     ]
    },
    {
     "name": "stdout",
     "output_type": "stream",
     "text": [
      "LOSS: train 3.3188027858734133, validation 3.2912870049476624\n"
     ]
    },
    {
     "name": "stderr",
     "output_type": "stream",
     "text": [
      " 68%|\u001b[36m██████▊   \u001b[0m| 271/400 [03:34<01:47,  1.20it/s]"
     ]
    },
    {
     "name": "stdout",
     "output_type": "stream",
     "text": [
      "LOSS: train 3.2760696254730224, validation 3.249497640132904\n"
     ]
    },
    {
     "name": "stderr",
     "output_type": "stream",
     "text": [
      " 70%|\u001b[36m███████   \u001b[0m| 281/400 [03:43<01:48,  1.09it/s]"
     ]
    },
    {
     "name": "stdout",
     "output_type": "stream",
     "text": [
      "LOSS: train 3.2372398525238038, validation 3.211531949043274\n"
     ]
    },
    {
     "name": "stderr",
     "output_type": "stream",
     "text": [
      " 73%|\u001b[36m███████▎  \u001b[0m| 291/400 [03:52<01:36,  1.12it/s]"
     ]
    },
    {
     "name": "stdout",
     "output_type": "stream",
     "text": [
      "LOSS: train 3.201960050201416, validation 3.177043652534485\n"
     ]
    },
    {
     "name": "stderr",
     "output_type": "stream",
     "text": [
      " 75%|\u001b[36m███████▌  \u001b[0m| 301/400 [04:00<01:20,  1.23it/s]"
     ]
    },
    {
     "name": "stdout",
     "output_type": "stream",
     "text": [
      "LOSS: train 3.169907294464111, validation 3.1457149505615236\n"
     ]
    },
    {
     "name": "stderr",
     "output_type": "stream",
     "text": [
      " 78%|\u001b[36m███████▊  \u001b[0m| 311/400 [04:08<01:14,  1.19it/s]"
     ]
    },
    {
     "name": "stdout",
     "output_type": "stream",
     "text": [
      "LOSS: train 3.140783833694458, validation 3.1172565102577208\n"
     ]
    },
    {
     "name": "stderr",
     "output_type": "stream",
     "text": [
      " 80%|\u001b[36m████████  \u001b[0m| 321/400 [04:16<01:05,  1.20it/s]"
     ]
    },
    {
     "name": "stdout",
     "output_type": "stream",
     "text": [
      "LOSS: train 3.1143213851928713, validation 3.0914016127586366\n"
     ]
    },
    {
     "name": "stderr",
     "output_type": "stream",
     "text": [
      " 83%|\u001b[36m████████▎ \u001b[0m| 331/400 [04:25<00:59,  1.16it/s]"
     ]
    },
    {
     "name": "stdout",
     "output_type": "stream",
     "text": [
      "LOSS: train 3.090278700637817, validation 3.0679166197776793\n"
     ]
    },
    {
     "name": "stderr",
     "output_type": "stream",
     "text": [
      " 85%|\u001b[36m████████▌ \u001b[0m| 341/400 [04:33<00:49,  1.18it/s]"
     ]
    },
    {
     "name": "stdout",
     "output_type": "stream",
     "text": [
      "LOSS: train 3.0684359970092774, validation 3.0465849161148073\n"
     ]
    },
    {
     "name": "stderr",
     "output_type": "stream",
     "text": [
      " 88%|\u001b[36m████████▊ \u001b[0m| 351/400 [04:42<00:43,  1.13it/s]"
     ]
    },
    {
     "name": "stdout",
     "output_type": "stream",
     "text": [
      "LOSS: train 3.048589082336426, validation 3.027207040786743\n"
     ]
    },
    {
     "name": "stderr",
     "output_type": "stream",
     "text": [
      " 90%|\u001b[36m█████████ \u001b[0m| 361/400 [04:51<00:34,  1.14it/s]"
     ]
    },
    {
     "name": "stdout",
     "output_type": "stream",
     "text": [
      "LOSS: train 3.0305563102722166, validation 3.009604573249817\n"
     ]
    },
    {
     "name": "stderr",
     "output_type": "stream",
     "text": [
      " 93%|\u001b[36m█████████▎\u001b[0m| 371/400 [05:00<00:25,  1.15it/s]"
     ]
    },
    {
     "name": "stdout",
     "output_type": "stream",
     "text": [
      "LOSS: train 3.014171499633789, validation 2.993615007400513\n"
     ]
    },
    {
     "name": "stderr",
     "output_type": "stream",
     "text": [
      " 95%|\u001b[36m█████████▌\u001b[0m| 381/400 [05:08<00:16,  1.15it/s]"
     ]
    },
    {
     "name": "stdout",
     "output_type": "stream",
     "text": [
      "LOSS: train 2.9992860786437987, validation 2.979092228412628\n"
     ]
    },
    {
     "name": "stderr",
     "output_type": "stream",
     "text": [
      " 98%|\u001b[36m█████████▊\u001b[0m| 391/400 [05:16<00:07,  1.23it/s]"
     ]
    },
    {
     "name": "stdout",
     "output_type": "stream",
     "text": [
      "LOSS: train 2.9857613876342772, validation 2.9659008026123046\n"
     ]
    },
    {
     "name": "stderr",
     "output_type": "stream",
     "text": [
      "100%|\u001b[36m██████████\u001b[0m| 400/400 [05:24<00:00,  1.23it/s]\n"
     ]
    },
    {
     "name": "stdout",
     "output_type": "stream",
     "text": [
      "Switching models\n"
     ]
    },
    {
     "name": "stderr",
     "output_type": "stream",
     "text": [
      "  0%|\u001b[36m          \u001b[0m| 1/400 [00:00<05:58,  1.11it/s]"
     ]
    },
    {
     "name": "stdout",
     "output_type": "stream",
     "text": [
      "LOSS: train 382.5107973388672, validation 226.9372528076172\n"
     ]
    },
    {
     "name": "stderr",
     "output_type": "stream",
     "text": [
      "  3%|\u001b[36m▎         \u001b[0m| 11/400 [00:09<05:39,  1.14it/s]"
     ]
    },
    {
     "name": "stdout",
     "output_type": "stream",
     "text": [
      "LOSS: train 2.8783981575012207, validation 2.8429181575775146\n"
     ]
    },
    {
     "name": "stderr",
     "output_type": "stream",
     "text": [
      "  5%|\u001b[36m▌         \u001b[0m| 20/400 [00:18<05:50,  1.08it/s]"
     ]
    },
    {
     "name": "stdout",
     "output_type": "stream",
     "text": [
      "LOSS: train 2.850953705215454, validation 2.8334480047225954\n",
      "Final loss on train:\n",
      "With layer_norm 2.850953705215454, without 2.9746505195617674\n",
      "--------------------------------------------------\n",
      "Final loss on test:\n",
      "With layer_norm 2.8334480047225954, without 2.955066680908203\n"
     ]
    },
    {
     "name": "stderr",
     "output_type": "stream",
     "text": [
      "\n"
     ]
    },
    {
     "data": {
      "image/png": "[encoded data removed]",
      "text/plain": [
       "<Figure size 640x480 with 1 Axes>"
      ]
     },
     "metadata": {},
     "output_type": "display_data"
    }
   ],
   "source": [
    "m = -2\n",
    "sigma = 0.3\n",
    "\n",
    "tr, tst, tr_n, tst_n = compare(m, sigma, 0.8, n_epochs=400)\n",
    "\n",
    "plt.title(f'$\\sigma \\ll |m|$, m={m}, $\\sigma$={sigma}')\n",
    "plot_results(tr, tst, tr_n, tst_n, skip_first=6)"
   ]
  },
  {
   "cell_type": "markdown",
   "metadata": {},
   "source": [
    "### $|m| \\ll \\sigma$"
   ]
  },
  {
   "cell_type": "code",
   "execution_count": 21,
   "metadata": {},
   "outputs": [
    {
     "name": "stderr",
     "output_type": "stream",
     "text": [
      "  1%|\u001b[36m          \u001b[0m| 1/100 [00:01<01:40,  1.02s/it]"
     ]
    },
    {
     "name": "stdout",
     "output_type": "stream",
     "text": [
      "LOSS: train 372.2796037109375, validation 368.18798370361327\n"
     ]
    },
    {
     "name": "stderr",
     "output_type": "stream",
     "text": [
      " 11%|\u001b[36m█         \u001b[0m| 11/100 [00:09<01:18,  1.13it/s]"
     ]
    },
    {
     "name": "stdout",
     "output_type": "stream",
     "text": [
      "LOSS: train 371.8759567871094, validation 367.8259643554687\n"
     ]
    },
    {
     "name": "stderr",
     "output_type": "stream",
     "text": [
      " 21%|\u001b[36m██        \u001b[0m| 21/100 [00:18<01:06,  1.19it/s]"
     ]
    },
    {
     "name": "stdout",
     "output_type": "stream",
     "text": [
      "LOSS: train 371.8241751953125, validation 367.7794662475586\n"
     ]
    },
    {
     "name": "stderr",
     "output_type": "stream",
     "text": [
      " 31%|\u001b[36m███       \u001b[0m| 31/100 [00:27<01:00,  1.14it/s]"
     ]
    },
    {
     "name": "stdout",
     "output_type": "stream",
     "text": [
      "LOSS: train 371.81631020507814, validation 367.7728210449219\n"
     ]
    },
    {
     "name": "stderr",
     "output_type": "stream",
     "text": [
      " 41%|\u001b[36m████      \u001b[0m| 41/100 [00:35<00:51,  1.14it/s]"
     ]
    },
    {
     "name": "stdout",
     "output_type": "stream",
     "text": [
      "LOSS: train 371.81491708984373, validation 367.7719360351563\n"
     ]
    },
    {
     "name": "stderr",
     "output_type": "stream",
     "text": [
      " 51%|\u001b[36m█████     \u001b[0m| 51/100 [00:44<00:43,  1.13it/s]"
     ]
    },
    {
     "name": "stdout",
     "output_type": "stream",
     "text": [
      "LOSS: train 371.8146724609375, validation 367.7719451904297\n"
     ]
    },
    {
     "name": "stderr",
     "output_type": "stream",
     "text": [
      " 61%|\u001b[36m██████    \u001b[0m| 61/100 [00:53<00:34,  1.12it/s]"
     ]
    },
    {
     "name": "stdout",
     "output_type": "stream",
     "text": [
      "LOSS: train 371.81464233398435, validation 367.7720611572266\n"
     ]
    },
    {
     "name": "stderr",
     "output_type": "stream",
     "text": [
      " 71%|\u001b[36m███████   \u001b[0m| 71/100 [01:02<00:25,  1.15it/s]"
     ]
    },
    {
     "name": "stdout",
     "output_type": "stream",
     "text": [
      "LOSS: train 371.81465400390624, validation 367.7721420288086\n"
     ]
    },
    {
     "name": "stderr",
     "output_type": "stream",
     "text": [
      " 81%|\u001b[36m████████  \u001b[0m| 81/100 [01:10<00:16,  1.18it/s]"
     ]
    },
    {
     "name": "stdout",
     "output_type": "stream",
     "text": [
      "LOSS: train 371.81466005859374, validation 367.7721893310547\n"
     ]
    },
    {
     "name": "stderr",
     "output_type": "stream",
     "text": [
      " 91%|\u001b[36m█████████ \u001b[0m| 91/100 [01:19<00:07,  1.22it/s]"
     ]
    },
    {
     "name": "stdout",
     "output_type": "stream",
     "text": [
      "LOSS: train 371.81467333984375, validation 367.77220458984374\n"
     ]
    },
    {
     "name": "stderr",
     "output_type": "stream",
     "text": [
      "100%|\u001b[36m██████████\u001b[0m| 100/100 [01:26<00:00,  1.16it/s]\n"
     ]
    },
    {
     "name": "stdout",
     "output_type": "stream",
     "text": [
      "Switching models\n"
     ]
    },
    {
     "name": "stderr",
     "output_type": "stream",
     "text": [
      "  1%|\u001b[36m          \u001b[0m| 1/100 [00:00<01:21,  1.21it/s]"
     ]
    },
    {
     "name": "stdout",
     "output_type": "stream",
     "text": [
      "LOSS: train 372.1231139160156, validation 368.03941650390624\n"
     ]
    },
    {
     "name": "stderr",
     "output_type": "stream",
     "text": [
      " 11%|\u001b[36m█         \u001b[0m| 11/100 [00:09<01:14,  1.19it/s]"
     ]
    },
    {
     "name": "stdout",
     "output_type": "stream",
     "text": [
      "LOSS: train 371.86822905273436, validation 367.8152114868164\n"
     ]
    },
    {
     "name": "stderr",
     "output_type": "stream",
     "text": [
      " 21%|\u001b[36m██        \u001b[0m| 21/100 [00:17<01:06,  1.18it/s]"
     ]
    },
    {
     "name": "stdout",
     "output_type": "stream",
     "text": [
      "LOSS: train 371.823855078125, validation 367.7781295776367\n"
     ]
    },
    {
     "name": "stderr",
     "output_type": "stream",
     "text": [
      " 31%|\u001b[36m███       \u001b[0m| 31/100 [00:25<00:52,  1.30it/s]"
     ]
    },
    {
     "name": "stdout",
     "output_type": "stream",
     "text": [
      "LOSS: train 371.81618671875, validation 367.77257385253904\n"
     ]
    },
    {
     "name": "stderr",
     "output_type": "stream",
     "text": [
      " 41%|\u001b[36m████      \u001b[0m| 41/100 [00:32<00:38,  1.55it/s]"
     ]
    },
    {
     "name": "stdout",
     "output_type": "stream",
     "text": [
      "LOSS: train 371.81488994140625, validation 367.77200469970705\n"
     ]
    },
    {
     "name": "stderr",
     "output_type": "stream",
     "text": [
      " 51%|\u001b[36m█████     \u001b[0m| 51/100 [00:39<00:32,  1.49it/s]"
     ]
    },
    {
     "name": "stdout",
     "output_type": "stream",
     "text": [
      "LOSS: train 371.81468598632813, validation 367.7720687866211\n"
     ]
    },
    {
     "name": "stderr",
     "output_type": "stream",
     "text": [
      " 61%|\u001b[36m██████    \u001b[0m| 61/100 [00:45<00:25,  1.54it/s]"
     ]
    },
    {
     "name": "stdout",
     "output_type": "stream",
     "text": [
      "LOSS: train 371.8146626953125, validation 367.7721694946289\n"
     ]
    },
    {
     "name": "stderr",
     "output_type": "stream",
     "text": [
      " 71%|\u001b[36m███████   \u001b[0m| 71/100 [00:52<00:20,  1.42it/s]"
     ]
    },
    {
     "name": "stdout",
     "output_type": "stream",
     "text": [
      "LOSS: train 371.8146678222656, validation 367.7722137451172\n"
     ]
    },
    {
     "name": "stderr",
     "output_type": "stream",
     "text": [
      " 81%|\u001b[36m████████  \u001b[0m| 81/100 [00:59<00:12,  1.47it/s]"
     ]
    },
    {
     "name": "stdout",
     "output_type": "stream",
     "text": [
      "LOSS: train 371.81466533203127, validation 367.7722427368164\n"
     ]
    },
    {
     "name": "stderr",
     "output_type": "stream",
     "text": [
      " 91%|\u001b[36m█████████ \u001b[0m| 91/100 [01:05<00:06,  1.49it/s]"
     ]
    },
    {
     "name": "stdout",
     "output_type": "stream",
     "text": [
      "LOSS: train 371.8146681640625, validation 367.7722473144531\n"
     ]
    },
    {
     "name": "stderr",
     "output_type": "stream",
     "text": [
      "100%|\u001b[36m██████████\u001b[0m| 100/100 [01:12<00:00,  1.39it/s]"
     ]
    },
    {
     "name": "stdout",
     "output_type": "stream",
     "text": [
      "Final loss on train:\n",
      "With layer_norm 371.81466772460936, without 371.81467470703126\n",
      "--------------------------------------------------\n",
      "Final loss on test:\n",
      "With layer_norm 367.77225189208986, without 367.77221832275393\n"
     ]
    },
    {
     "name": "stderr",
     "output_type": "stream",
     "text": [
      "\n"
     ]
    },
    {
     "data": {
      "image/png": "[encoded data removed]",
      "text/plain": [
       "<Figure size 640x480 with 1 Axes>"
      ]
     },
     "metadata": {},
     "output_type": "display_data"
    }
   ],
   "source": [
    "m = 0.1\n",
    "sigma = 1\n",
    "\n",
    "tr, tst, tr_n, tst_n = compare(m, sigma, 0.8, n_epochs=100, lr=5e-4)\n",
    "\n",
    "plt.title(f'$\\sigma \\gg |m|$, m={m}, $\\sigma$={sigma}')\n",
    "plot_results(tr, tst, tr_n, tst_n, skip_first=0)"
   ]
  },
  {
   "cell_type": "code",
   "execution_count": 22,
   "metadata": {},
   "outputs": [
    {
     "name": "stderr",
     "output_type": "stream",
     "text": [
      "  0%|\u001b[36m          \u001b[0m| 1/300 [00:00<03:54,  1.27it/s]"
     ]
    },
    {
     "name": "stdout",
     "output_type": "stream",
     "text": [
      "LOSS: train 5394.01019921875, validation 5390.133520507812\n"
     ]
    },
    {
     "name": "stderr",
     "output_type": "stream",
     "text": [
      "  4%|\u001b[36m▎         \u001b[0m| 11/300 [00:07<03:24,  1.42it/s]"
     ]
    },
    {
     "name": "stdout",
     "output_type": "stream",
     "text": [
      "LOSS: train 5389.2611046875, validation 5387.880395507813\n"
     ]
    },
    {
     "name": "stderr",
     "output_type": "stream",
     "text": [
      "  7%|\u001b[36m▋         \u001b[0m| 21/300 [00:14<03:15,  1.43it/s]"
     ]
    },
    {
     "name": "stdout",
     "output_type": "stream",
     "text": [
      "LOSS: train 5388.6523640625, validation 5387.678540039063\n"
     ]
    },
    {
     "name": "stderr",
     "output_type": "stream",
     "text": [
      " 10%|\u001b[36m█         \u001b[0m| 31/300 [00:21<03:07,  1.44it/s]"
     ]
    },
    {
     "name": "stdout",
     "output_type": "stream",
     "text": [
      "LOSS: train 5388.52088671875, validation 5387.72421875\n"
     ]
    },
    {
     "name": "stderr",
     "output_type": "stream",
     "text": [
      " 14%|\u001b[36m█▎        \u001b[0m| 41/300 [00:29<03:08,  1.37it/s]"
     ]
    },
    {
     "name": "stdout",
     "output_type": "stream",
     "text": [
      "LOSS: train 5388.4923296875, validation 5387.775122070312\n"
     ]
    },
    {
     "name": "stderr",
     "output_type": "stream",
     "text": [
      " 17%|\u001b[36m█▋        \u001b[0m| 51/300 [00:36<03:21,  1.24it/s]"
     ]
    },
    {
     "name": "stdout",
     "output_type": "stream",
     "text": [
      "LOSS: train 5388.48599375, validation 5387.804956054688\n"
     ]
    },
    {
     "name": "stderr",
     "output_type": "stream",
     "text": [
      " 20%|\u001b[36m██        \u001b[0m| 61/300 [00:45<03:12,  1.24it/s]"
     ]
    },
    {
     "name": "stdout",
     "output_type": "stream",
     "text": [
      "LOSS: train 5388.484525, validation 5387.820263671875\n"
     ]
    },
    {
     "name": "stderr",
     "output_type": "stream",
     "text": [
      " 24%|\u001b[36m██▎       \u001b[0m| 71/300 [00:53<03:04,  1.24it/s]"
     ]
    },
    {
     "name": "stdout",
     "output_type": "stream",
     "text": [
      "LOSS: train 5388.4841671875, validation 5387.8275390625\n"
     ]
    },
    {
     "name": "stderr",
     "output_type": "stream",
     "text": [
      " 27%|\u001b[36m██▋       \u001b[0m| 81/300 [01:01<02:56,  1.24it/s]"
     ]
    },
    {
     "name": "stdout",
     "output_type": "stream",
     "text": [
      "LOSS: train 5388.48407578125, validation 5387.8310546875\n"
     ]
    },
    {
     "name": "stderr",
     "output_type": "stream",
     "text": [
      " 30%|\u001b[36m███       \u001b[0m| 91/300 [01:09<02:46,  1.26it/s]"
     ]
    },
    {
     "name": "stdout",
     "output_type": "stream",
     "text": [
      "LOSS: train 5388.48402421875, validation 5387.832666015625\n"
     ]
    },
    {
     "name": "stderr",
     "output_type": "stream",
     "text": [
      " 34%|\u001b[36m███▎      \u001b[0m| 101/300 [01:16<02:30,  1.32it/s]"
     ]
    },
    {
     "name": "stdout",
     "output_type": "stream",
     "text": [
      "LOSS: train 5388.484025, validation 5387.833422851562\n"
     ]
    },
    {
     "name": "stderr",
     "output_type": "stream",
     "text": [
      " 37%|\u001b[36m███▋      \u001b[0m| 111/300 [01:24<02:26,  1.29it/s]"
     ]
    },
    {
     "name": "stdout",
     "output_type": "stream",
     "text": [
      "LOSS: train 5388.4840328125, validation 5387.833764648438\n"
     ]
    },
    {
     "name": "stderr",
     "output_type": "stream",
     "text": [
      " 40%|\u001b[36m████      \u001b[0m| 121/300 [01:32<02:21,  1.27it/s]"
     ]
    },
    {
     "name": "stdout",
     "output_type": "stream",
     "text": [
      "LOSS: train 5388.4840078125, validation 5387.833837890625\n"
     ]
    },
    {
     "name": "stderr",
     "output_type": "stream",
     "text": [
      " 44%|\u001b[36m████▎     \u001b[0m| 131/300 [01:40<02:13,  1.27it/s]"
     ]
    },
    {
     "name": "stdout",
     "output_type": "stream",
     "text": [
      "LOSS: train 5388.4840015625, validation 5387.8338623046875\n"
     ]
    },
    {
     "name": "stderr",
     "output_type": "stream",
     "text": [
      " 47%|\u001b[36m████▋     \u001b[0m| 141/300 [01:48<02:06,  1.25it/s]"
     ]
    },
    {
     "name": "stdout",
     "output_type": "stream",
     "text": [
      "LOSS: train 5388.4839953125, validation 5387.834008789063\n"
     ]
    },
    {
     "name": "stderr",
     "output_type": "stream",
     "text": [
      " 50%|\u001b[36m█████     \u001b[0m| 151/300 [01:55<01:54,  1.30it/s]"
     ]
    },
    {
     "name": "stdout",
     "output_type": "stream",
     "text": [
      "LOSS: train 5388.4839765625, validation 5387.833984375\n"
     ]
    },
    {
     "name": "stderr",
     "output_type": "stream",
     "text": [
      " 54%|\u001b[36m█████▎    \u001b[0m| 161/300 [02:03<01:44,  1.33it/s]"
     ]
    },
    {
     "name": "stdout",
     "output_type": "stream",
     "text": [
      "LOSS: train 5388.4840140625, validation 5387.833959960937\n"
     ]
    },
    {
     "name": "stderr",
     "output_type": "stream",
     "text": [
      " 57%|\u001b[36m█████▋    \u001b[0m| 171/300 [02:11<01:35,  1.35it/s]"
     ]
    },
    {
     "name": "stdout",
     "output_type": "stream",
     "text": [
      "LOSS: train 5388.4840515625, validation 5387.833935546875\n"
     ]
    },
    {
     "name": "stderr",
     "output_type": "stream",
     "text": [
      " 60%|\u001b[36m██████    \u001b[0m| 181/300 [02:18<01:29,  1.34it/s]"
     ]
    },
    {
     "name": "stdout",
     "output_type": "stream",
     "text": [
      "LOSS: train 5388.4840203125, validation 5387.833984375\n"
     ]
    },
    {
     "name": "stderr",
     "output_type": "stream",
     "text": [
      " 64%|\u001b[36m██████▎   \u001b[0m| 191/300 [02:25<01:18,  1.39it/s]"
     ]
    },
    {
     "name": "stdout",
     "output_type": "stream",
     "text": [
      "LOSS: train 5388.4840203125, validation 5387.833984375\n"
     ]
    },
    {
     "name": "stderr",
     "output_type": "stream",
     "text": [
      " 67%|\u001b[36m██████▋   \u001b[0m| 201/300 [02:33<01:15,  1.32it/s]"
     ]
    },
    {
     "name": "stdout",
     "output_type": "stream",
     "text": [
      "LOSS: train 5388.4840203125, validation 5387.833984375\n"
     ]
    },
    {
     "name": "stderr",
     "output_type": "stream",
     "text": [
      " 70%|\u001b[36m███████   \u001b[0m| 211/300 [02:41<01:09,  1.28it/s]"
     ]
    },
    {
     "name": "stdout",
     "output_type": "stream",
     "text": [
      "LOSS: train 5388.4840203125, validation 5387.833984375\n"
     ]
    },
    {
     "name": "stderr",
     "output_type": "stream",
     "text": [
      " 74%|\u001b[36m███████▎  \u001b[0m| 221/300 [02:48<01:01,  1.28it/s]"
     ]
    },
    {
     "name": "stdout",
     "output_type": "stream",
     "text": [
      "LOSS: train 5388.4840203125, validation 5387.833984375\n"
     ]
    },
    {
     "name": "stderr",
     "output_type": "stream",
     "text": [
      " 77%|\u001b[36m███████▋  \u001b[0m| 231/300 [02:56<00:55,  1.23it/s]"
     ]
    },
    {
     "name": "stdout",
     "output_type": "stream",
     "text": [
      "LOSS: train 5388.4840203125, validation 5387.833984375\n"
     ]
    },
    {
     "name": "stderr",
     "output_type": "stream",
     "text": [
      " 80%|\u001b[36m████████  \u001b[0m| 241/300 [03:04<00:46,  1.27it/s]"
     ]
    },
    {
     "name": "stdout",
     "output_type": "stream",
     "text": [
      "LOSS: train 5388.4840203125, validation 5387.833984375\n"
     ]
    },
    {
     "name": "stderr",
     "output_type": "stream",
     "text": [
      " 84%|\u001b[36m████████▎ \u001b[0m| 251/300 [03:12<00:38,  1.26it/s]"
     ]
    },
    {
     "name": "stdout",
     "output_type": "stream",
     "text": [
      "LOSS: train 5388.4840203125, validation 5387.833984375\n"
     ]
    },
    {
     "name": "stderr",
     "output_type": "stream",
     "text": [
      " 87%|\u001b[36m████████▋ \u001b[0m| 261/300 [03:20<00:30,  1.26it/s]"
     ]
    },
    {
     "name": "stdout",
     "output_type": "stream",
     "text": [
      "LOSS: train 5388.4840203125, validation 5387.833984375\n"
     ]
    },
    {
     "name": "stderr",
     "output_type": "stream",
     "text": [
      " 90%|\u001b[36m█████████ \u001b[0m| 271/300 [03:28<00:22,  1.28it/s]"
     ]
    },
    {
     "name": "stdout",
     "output_type": "stream",
     "text": [
      "LOSS: train 5388.4840203125, validation 5387.833984375\n"
     ]
    },
    {
     "name": "stderr",
     "output_type": "stream",
     "text": [
      " 94%|\u001b[36m█████████▎\u001b[0m| 281/300 [03:36<00:14,  1.29it/s]"
     ]
    },
    {
     "name": "stdout",
     "output_type": "stream",
     "text": [
      "LOSS: train 5388.4840203125, validation 5387.833984375\n"
     ]
    },
    {
     "name": "stderr",
     "output_type": "stream",
     "text": [
      " 97%|\u001b[36m█████████▋\u001b[0m| 291/300 [03:44<00:07,  1.26it/s]"
     ]
    },
    {
     "name": "stdout",
     "output_type": "stream",
     "text": [
      "LOSS: train 5388.4840203125, validation 5387.833984375\n"
     ]
    },
    {
     "name": "stderr",
     "output_type": "stream",
     "text": [
      "100%|\u001b[36m██████████\u001b[0m| 300/300 [03:51<00:00,  1.30it/s]\n"
     ]
    },
    {
     "name": "stdout",
     "output_type": "stream",
     "text": [
      "Switching models\n"
     ]
    },
    {
     "name": "stderr",
     "output_type": "stream",
     "text": [
      "  0%|\u001b[36m          \u001b[0m| 1/300 [00:00<04:13,  1.18it/s]"
     ]
    },
    {
     "name": "stdout",
     "output_type": "stream",
     "text": [
      "LOSS: train 5394.03440859375, validation 5391.227856445313\n"
     ]
    },
    {
     "name": "stderr",
     "output_type": "stream",
     "text": [
      "  4%|\u001b[36m▎         \u001b[0m| 11/300 [00:09<03:58,  1.21it/s]"
     ]
    },
    {
     "name": "stdout",
     "output_type": "stream",
     "text": [
      "LOSS: train 5389.6136125, validation 5388.09140625\n"
     ]
    },
    {
     "name": "stderr",
     "output_type": "stream",
     "text": [
      "  7%|\u001b[36m▋         \u001b[0m| 21/300 [00:16<03:40,  1.27it/s]"
     ]
    },
    {
     "name": "stdout",
     "output_type": "stream",
     "text": [
      "LOSS: train 5388.714115625, validation 5387.69208984375\n"
     ]
    },
    {
     "name": "stderr",
     "output_type": "stream",
     "text": [
      " 10%|\u001b[36m█         \u001b[0m| 31/300 [00:24<03:36,  1.24it/s]"
     ]
    },
    {
     "name": "stdout",
     "output_type": "stream",
     "text": [
      "LOSS: train 5388.529978125, validation 5387.71796875\n"
     ]
    },
    {
     "name": "stderr",
     "output_type": "stream",
     "text": [
      " 14%|\u001b[36m█▎        \u001b[0m| 41/300 [00:33<03:28,  1.24it/s]"
     ]
    },
    {
     "name": "stdout",
     "output_type": "stream",
     "text": [
      "LOSS: train 5388.4919078125, validation 5387.771801757813\n"
     ]
    },
    {
     "name": "stderr",
     "output_type": "stream",
     "text": [
      " 17%|\u001b[36m█▋        \u001b[0m| 51/300 [00:40<03:05,  1.34it/s]"
     ]
    },
    {
     "name": "stdout",
     "output_type": "stream",
     "text": [
      "LOSS: train 5388.48395625, validation 5387.804516601563\n"
     ]
    },
    {
     "name": "stderr",
     "output_type": "stream",
     "text": [
      " 20%|\u001b[36m██        \u001b[0m| 61/300 [00:48<03:13,  1.24it/s]"
     ]
    },
    {
     "name": "stdout",
     "output_type": "stream",
     "text": [
      "LOSS: train 5388.482178125, validation 5387.821337890625\n"
     ]
    },
    {
     "name": "stderr",
     "output_type": "stream",
     "text": [
      " 24%|\u001b[36m██▎       \u001b[0m| 71/300 [00:56<02:56,  1.30it/s]"
     ]
    },
    {
     "name": "stdout",
     "output_type": "stream",
     "text": [
      "LOSS: train 5388.4818359375, validation 5387.829296875\n"
     ]
    },
    {
     "name": "stderr",
     "output_type": "stream",
     "text": [
      " 27%|\u001b[36m██▋       \u001b[0m| 81/300 [01:04<02:49,  1.29it/s]"
     ]
    },
    {
     "name": "stdout",
     "output_type": "stream",
     "text": [
      "LOSS: train 5388.48168203125, validation 5387.832934570312\n"
     ]
    },
    {
     "name": "stderr",
     "output_type": "stream",
     "text": [
      " 30%|\u001b[36m███       \u001b[0m| 91/300 [01:11<02:38,  1.32it/s]"
     ]
    },
    {
     "name": "stdout",
     "output_type": "stream",
     "text": [
      "LOSS: train 5388.4816546875, validation 5387.834643554687\n"
     ]
    },
    {
     "name": "stderr",
     "output_type": "stream",
     "text": [
      " 34%|\u001b[36m███▎      \u001b[0m| 101/300 [01:19<02:29,  1.33it/s]"
     ]
    },
    {
     "name": "stdout",
     "output_type": "stream",
     "text": [
      "LOSS: train 5388.48165625, validation 5387.8353271484375\n"
     ]
    },
    {
     "name": "stderr",
     "output_type": "stream",
     "text": [
      " 37%|\u001b[36m███▋      \u001b[0m| 111/300 [01:27<02:33,  1.23it/s]"
     ]
    },
    {
     "name": "stdout",
     "output_type": "stream",
     "text": [
      "LOSS: train 5388.4816765625, validation 5387.83564453125\n"
     ]
    },
    {
     "name": "stderr",
     "output_type": "stream",
     "text": [
      " 40%|\u001b[36m████      \u001b[0m| 121/300 [01:35<02:21,  1.26it/s]"
     ]
    },
    {
     "name": "stdout",
     "output_type": "stream",
     "text": [
      "LOSS: train 5388.4816265625, validation 5387.8359375\n"
     ]
    },
    {
     "name": "stderr",
     "output_type": "stream",
     "text": [
      " 44%|\u001b[36m████▎     \u001b[0m| 131/300 [01:43<02:08,  1.31it/s]"
     ]
    },
    {
     "name": "stdout",
     "output_type": "stream",
     "text": [
      "LOSS: train 5388.4816390625, validation 5387.836010742188\n"
     ]
    },
    {
     "name": "stderr",
     "output_type": "stream",
     "text": [
      " 47%|\u001b[36m████▋     \u001b[0m| 141/300 [01:51<02:05,  1.27it/s]"
     ]
    },
    {
     "name": "stdout",
     "output_type": "stream",
     "text": [
      "LOSS: train 5388.48163203125, validation 5387.8361328125\n"
     ]
    },
    {
     "name": "stderr",
     "output_type": "stream",
     "text": [
      " 50%|\u001b[36m█████     \u001b[0m| 151/300 [01:59<01:57,  1.27it/s]"
     ]
    },
    {
     "name": "stdout",
     "output_type": "stream",
     "text": [
      "LOSS: train 5388.4816578125, validation 5387.836108398437\n"
     ]
    },
    {
     "name": "stderr",
     "output_type": "stream",
     "text": [
      " 54%|\u001b[36m█████▎    \u001b[0m| 161/300 [02:06<01:50,  1.25it/s]"
     ]
    },
    {
     "name": "stdout",
     "output_type": "stream",
     "text": [
      "LOSS: train 5388.48161953125, validation 5387.8361328125\n"
     ]
    },
    {
     "name": "stderr",
     "output_type": "stream",
     "text": [
      " 57%|\u001b[36m█████▋    \u001b[0m| 171/300 [02:15<01:46,  1.21it/s]"
     ]
    },
    {
     "name": "stdout",
     "output_type": "stream",
     "text": [
      "LOSS: train 5388.4816203125, validation 5387.8361328125\n"
     ]
    },
    {
     "name": "stderr",
     "output_type": "stream",
     "text": [
      " 60%|\u001b[36m██████    \u001b[0m| 181/300 [02:23<01:31,  1.31it/s]"
     ]
    },
    {
     "name": "stdout",
     "output_type": "stream",
     "text": [
      "LOSS: train 5388.4816203125, validation 5387.836157226562\n"
     ]
    },
    {
     "name": "stderr",
     "output_type": "stream",
     "text": [
      " 64%|\u001b[36m██████▎   \u001b[0m| 191/300 [02:30<01:27,  1.25it/s]"
     ]
    },
    {
     "name": "stdout",
     "output_type": "stream",
     "text": [
      "LOSS: train 5388.4816140625, validation 5387.836157226562\n"
     ]
    },
    {
     "name": "stderr",
     "output_type": "stream",
     "text": [
      " 67%|\u001b[36m██████▋   \u001b[0m| 201/300 [02:38<01:18,  1.26it/s]"
     ]
    },
    {
     "name": "stdout",
     "output_type": "stream",
     "text": [
      "LOSS: train 5388.4816140625, validation 5387.836157226562\n"
     ]
    },
    {
     "name": "stderr",
     "output_type": "stream",
     "text": [
      " 70%|\u001b[36m███████   \u001b[0m| 211/300 [02:46<01:10,  1.27it/s]"
     ]
    },
    {
     "name": "stdout",
     "output_type": "stream",
     "text": [
      "LOSS: train 5388.4816015625, validation 5387.836157226562\n"
     ]
    },
    {
     "name": "stderr",
     "output_type": "stream",
     "text": [
      " 74%|\u001b[36m███████▎  \u001b[0m| 221/300 [02:54<01:05,  1.21it/s]"
     ]
    },
    {
     "name": "stdout",
     "output_type": "stream",
     "text": [
      "LOSS: train 5388.4816015625, validation 5387.836157226562\n"
     ]
    },
    {
     "name": "stderr",
     "output_type": "stream",
     "text": [
      " 77%|\u001b[36m███████▋  \u001b[0m| 231/300 [03:02<00:54,  1.28it/s]"
     ]
    },
    {
     "name": "stdout",
     "output_type": "stream",
     "text": [
      "LOSS: train 5388.4816015625, validation 5387.8361328125\n"
     ]
    },
    {
     "name": "stderr",
     "output_type": "stream",
     "text": [
      " 80%|\u001b[36m████████  \u001b[0m| 241/300 [03:10<00:47,  1.23it/s]"
     ]
    },
    {
     "name": "stdout",
     "output_type": "stream",
     "text": [
      "LOSS: train 5388.4816015625, validation 5387.836157226562\n"
     ]
    },
    {
     "name": "stderr",
     "output_type": "stream",
     "text": [
      " 84%|\u001b[36m████████▎ \u001b[0m| 251/300 [03:18<00:39,  1.23it/s]"
     ]
    },
    {
     "name": "stdout",
     "output_type": "stream",
     "text": [
      "LOSS: train 5388.4816015625, validation 5387.836157226562\n"
     ]
    },
    {
     "name": "stderr",
     "output_type": "stream",
     "text": [
      " 87%|\u001b[36m████████▋ \u001b[0m| 261/300 [03:26<00:29,  1.31it/s]"
     ]
    },
    {
     "name": "stdout",
     "output_type": "stream",
     "text": [
      "LOSS: train 5388.4816015625, validation 5387.836157226562\n"
     ]
    },
    {
     "name": "stderr",
     "output_type": "stream",
     "text": [
      " 90%|\u001b[36m█████████ \u001b[0m| 271/300 [03:34<00:23,  1.25it/s]"
     ]
    },
    {
     "name": "stdout",
     "output_type": "stream",
     "text": [
      "LOSS: train 5388.4816015625, validation 5387.836157226562\n"
     ]
    },
    {
     "name": "stderr",
     "output_type": "stream",
     "text": [
      " 94%|\u001b[36m█████████▎\u001b[0m| 281/300 [03:42<00:14,  1.27it/s]"
     ]
    },
    {
     "name": "stdout",
     "output_type": "stream",
     "text": [
      "LOSS: train 5388.4816015625, validation 5387.836157226562\n"
     ]
    },
    {
     "name": "stderr",
     "output_type": "stream",
     "text": [
      " 97%|\u001b[36m█████████▋\u001b[0m| 291/300 [03:50<00:07,  1.28it/s]"
     ]
    },
    {
     "name": "stdout",
     "output_type": "stream",
     "text": [
      "LOSS: train 5388.4816015625, validation 5387.836157226562\n"
     ]
    },
    {
     "name": "stderr",
     "output_type": "stream",
     "text": [
      "100%|\u001b[36m██████████\u001b[0m| 300/300 [03:57<00:00,  1.26it/s]"
     ]
    },
    {
     "name": "stdout",
     "output_type": "stream",
     "text": [
      "Final loss on train:\n",
      "With layer_norm 5388.4816015625, without 5388.4840203125\n",
      "--------------------------------------------------\n",
      "Final loss on test:\n",
      "With layer_norm 5387.836157226562, without 5387.833984375\n"
     ]
    },
    {
     "name": "stderr",
     "output_type": "stream",
     "text": [
      "\n"
     ]
    },
    {
     "data": {
      "image/png": "[encoded data removed]",
      "text/plain": [
       "<Figure size 640x480 with 1 Axes>"
      ]
     },
     "metadata": {},
     "output_type": "display_data"
    }
   ],
   "source": [
    "m = -0.2\n",
    "sigma = 2\n",
    "\n",
    "tr, tst, tr_n, tst_n = compare(m, sigma, 0.8, lr=5e-4)\n",
    "\n",
    "plt.title(f'$\\sigma \\gg |m|$, m={m}, $\\sigma$={sigma}')\n",
    "plot_results(tr, tst, tr_n, tst_n, skip_first=0)"
   ]
  },
  {
   "cell_type": "markdown",
   "metadata": {},
   "source": [
    "Analyzing the results, we can say that in our case layer norm always speeds the convergence in all the regimes. The biggest gap in speed of convergence is achieved when $m \\gg \\sigma$, as $\\frac{\\sigma}{|m|}$ increases the difference becomes less noticeable. Perfomance of the model with layer norm is also always better than the one without norm but the difference is smaller than 0.1% when both models fully converge."
   ]
  },
  {
   "cell_type": "markdown",
   "metadata": {},
   "source": [
    "### Theoretical approach\n",
    "Here we will try to explain why model with Layer Norm convergences faster: <br>\n",
    "Basically we are solving a quadratic optimization problem:\n",
    "$$\\min_{w} \\|y - Xw\\|^2_2, \\quad y \\in \\mathbb{R}^n, \\; w \\in \\mathbb{R}^p $$\n",
    "Where $X = \\begin{pmatrix} x^1_1 & \\ldots & x^1_p \\\\ & \\ldots & \\\\ x^n_1 & \\ldots & x^n_p \\end{pmatrix} $, $\\;$ $x^i$ is a single observation consisting of $(x^i_1, \\ldots, x^i_p)$ corresponding to $y_i$. <br>\n",
    "Let's take a look at the gradients and at the Hessian matrix:\n",
    "$$ \\frac{\\partial}{\\partial w} \\|y - Xw\\|^2_2 = 2 X^T(Xw - y) $$\n",
    "$$ \\frac{\\partial}{\\partial w^2} \\|y - Xw\\|^2_2 = \\frac{\\partial}{\\partial w} 2 X^T(Xw - y) = 2 X^T X$$\n",
    "We know that gradient descent convergence for quadratic problems depends on the ratio between the smallest ($\\lambda_\\text{min}$) and the largest ($\\lambda_\\text{max}$) eigenvalues of the Hessian ($2X^TX$ in our case) $\\rightarrow$ the bigger the $\\frac{\\lambda_\\text{min}}{\\lambda_\\text{max}}$ the faster the convergence. (In Russian it's called [\"Соотношение Канторовича\"](https://ru.wikipedia.org/wiki/Градиентный_спуск) and for English you can refer to CSC421/2516 Lectures 7–8: Optimization [page 22](https://www.cs.toronto.edu/~rgrosse/courses/csc421_2019/slides/lec07.pdf) or [wiki](https://calculus.subwiki.org/wiki/Gradient_descent_with_constant_learning_rate_for_a_quadratic_function_of_multiple_variables)). <br>\n",
    "In our case $X$ consists of random vectors, so we can expect that $X^TX$ is non-singular because singualr matrices have Lebesgue measure $0$ and therefore probability of generating a singular matrix is $0$. <br> \n",
    "Now let's look at what Layer Norm does to our matrix. (Alternatively, probability of matrix $X$ having a full column rank is also 1) <br>\n",
    "We will denote $\\tilde{x}^i$ as the result of applying Layer Norm to vector $x^i$:\n",
    "$$ \\tilde{x}^i \\rightarrow \\frac{x^i - \\mu_i}{\\sigma_i}, \\quad \\mu_i = \\frac{1}{p} \\sum_{k=1}^p x^i_k, \\quad \\sigma_i^2 = \\frac{1}{p} \\sum_{k=1}^p (x^i_k - \\mu_i)^2$$\n",
    "$$ \\tilde{X} = \\begin{pmatrix} \\tilde{x}^1_1 & \\ldots & \\tilde{x}^1_p \\\\ & \\ldots & \\\\ \\tilde{x}^n_1 & \\ldots & \\tilde{x}^n_p \\end{pmatrix} $$\n",
    "Now, **very important observation**:\n",
    "$$ \\sum_{k=1}^p \\tilde{x}^i_k = \\sum_{k=1}^p \\frac{x^i}{\\sigma_i} - \\frac{p\\mu_i}{\\sigma_i} = 0$$\n",
    "It means that columns of $\\tilde{X}$ are linearly dependent and $\\text{rank} (\\tilde{X}) \\leq p - 1$. <br>\n",
    "From this observation it immediately follows that $\\text{rank} (\\tilde{X^T} \\tilde{X}) \\leq p - 1$ and $\\tilde{X^T} \\tilde{X}$ is singular! (Alternatively, $\\exists v: \\tilde{X}v = 0 \\Rightarrow \\tilde{X}^T \\tilde{X}v = 0$)<br>\n",
    "Remark 1: It is worh noting that we are assuming $n \\gg m$ meaning that we have a lot more data than the dimension of our observation. It coincides with our experiments above. <br>\n",
    "Denote eigenvalues of $\\tilde{X}^T \\tilde{X}$ as $\\tilde{\\lambda}$. <br>\n",
    "As was said above, $X^TX$ is non-singular with probability $1$ meaning for $X^TX \\rightarrow \\lambda_\\text{min} / \\lambda_\\text{max} \\neq 0$. <br>\n",
    "We arrive at an interesting conclusion, our next step can be to check the second smallest eigenvalue ($\\tilde{\\lambda}_\\text{min2}$) of $\\tilde{X}^T \\tilde{X}$. <br> However, we can notice that in general case we can't say anything about relation between $\\lambda_\\text{min} / \\lambda_\\text{max}$ and $\\tilde{\\lambda}_\\text{min2} / \\tilde{\\lambda}_\\text{max}$. <br>\n",
    "Consider the following matrix $X$:\n",
    "$$ X = \\begin{pmatrix} 3 & -10 & 3 \\\\ -7 & -5 & -9 \\\\ -6 & -9 & 5 \\end{pmatrix} $$\n",
    "For our's sake we will use python to check eigenvalues of $X^TX$ and $\\tilde{X}^T\\tilde{X}$: "
   ]
  },
  {
   "cell_type": "code",
   "execution_count": 158,
   "metadata": {},
   "outputs": [
    {
     "name": "stdout",
     "output_type": "stream",
     "text": [
      "Check that the smallest eigenvalue of normalized matrix is 0: 7.771561172376096e-16\n",
      "Regular 0.15545079556445127\n",
      "Normalized 0.12791240049007882\n"
     ]
    }
   ],
   "source": [
    "X = np.array([[3, -10, 3], [-7, -5, -9], [-6, -9, 5]])\n",
    "X_n = (X - X.mean(axis=-1)[:, None]) / X.std(axis=-1)[:, None] # normalized\n",
    "eigen_values = np.sort(np.linalg.eig(X.T @ X)[0]) # sorted eigenvalues of X^TX\n",
    "eigen_values_n = np.sort(np.linalg.eig(X_n.T @ X_n)[0]) # sorted eigenvalues of $\\tilde{X}^T\\tilde{X}$\n",
    "l_min, l_max = eigen_values[0], eigen_values[-1]\n",
    "l_min_n, l_max_n = eigen_values_n[1], eigen_values_n[-1]\n",
    "print('Check that the smallest eigenvalue of normalized matrix is 0:', eigen_values_n[0])\n",
    "print('Regular', l_min/l_max)\n",
    "print('Normalized', l_min_n/l_max_n)\n"
   ]
  },
  {
   "cell_type": "markdown",
   "metadata": {},
   "source": [
    "As we can see, in the case above unnormalized matrix is better for convergence of gradient descent. We can consider another example where normalization actually helps:\n",
    "$$ X = \\begin{pmatrix} 1 & 0 & 0 \\\\ 0 & 2 & 0 \\\\ 0 & 0 & 3 \\end{pmatrix} $$"
   ]
  },
  {
   "cell_type": "code",
   "execution_count": 159,
   "metadata": {},
   "outputs": [
    {
     "name": "stdout",
     "output_type": "stream",
     "text": [
      "Regular 0.1111111111111111\n",
      "Normalized 0.9999999999999998\n"
     ]
    }
   ],
   "source": [
    "X = np.diag([1, 2, 3])\n",
    "X_n = (X - X.mean(axis=-1)[:, None]) / X.std(axis=-1)[:, None] # normalized\n",
    "eigen_values = np.sort(np.linalg.eig(X.T @ X)[0]) # sorted eigenvalues of X^TX\n",
    "eigen_values_n = np.sort(np.linalg.eig(X_n.T @ X_n)[0]) # sorted eigenvalues of $\\tilde{X}^T\\tilde{X}$\n",
    "l_min, l_max = eigen_values[0], eigen_values[-1]\n",
    "l_min_n, l_max_n = eigen_values_n[1], eigen_values_n[-1]\n",
    "print('Regular', l_min/l_max)\n",
    "print('Normalized', l_min_n/l_max_n)\n"
   ]
  },
  {
   "cell_type": "markdown",
   "metadata": {},
   "source": [
    "Working with general $X$ didn't help us. Maybe we should take into account how our matrix $X$ was generated. We will explore it in the next section \"Additional Simulation\"."
   ]
  },
  {
   "cell_type": "markdown",
   "metadata": {},
   "source": [
    "### Additional Simulation"
   ]
  },
  {
   "cell_type": "markdown",
   "metadata": {},
   "source": [
    "Here we fix $m = 10$ - dimension of $z$ and $x$. <br>\n",
    "$n = 100000$ - number of samples in $X$. <br>\n",
    "We then generate $X$ according to our Problem Statement. We compute eigenvalues of $X^TX$ and $\\tilde{X}^T \\tilde{X}$ and compare $\\lambda_\\text{min} / \\lambda_\\text{max}$ with $\\tilde{\\lambda}_\\text{min2} / \\tilde{\\lambda}_\\text{max}$."
   ]
  },
  {
   "cell_type": "code",
   "execution_count": 17,
   "metadata": {},
   "outputs": [],
   "source": [
    "p = 10\n",
    "n = 100_000\n",
    "N_iterations = 300 # how many comparisons we want\n",
    "\n",
    "m = 1\n",
    "sigma = 10 # from the previous experiments we know that normalization works worse when sigma / |m| is large"
   ]
  },
  {
   "cell_type": "code",
   "execution_count": 41,
   "metadata": {},
   "outputs": [
    {
     "name": "stderr",
     "output_type": "stream",
     "text": [
      "100%|██████████| 300/300 [04:15<00:00,  1.18it/s]"
     ]
    },
    {
     "name": "stdout",
     "output_type": "stream",
     "text": [
      "Normaliztion helped in 295 cases out of 300\n",
      "Normaliztion did not help in 5 cases out of 300\n"
     ]
    },
    {
     "name": "stderr",
     "output_type": "stream",
     "text": [
      "\n"
     ]
    }
   ],
   "source": [
    "good, bad = 0, 0 # \"good\" is the number of iterations where normalization helped, bad is where it made it worse\n",
    "for it in tqdm(range(N_iterations)):\n",
    "    X, _, __ = generate_data(m, sigma, 0.8, n=p, size=n)\n",
    "    X_n = (X - X.mean(axis=-1)[:, None]) / X.std(axis=-1)[:, None]\n",
    "    eigen_values = np.sort(np.linalg.eig(X.T @ X)[0]) # sorted eigenvalues of X^TX\n",
    "    eigen_values_n = np.sort(np.linalg.eig(X_n.T @ X_n)[0]) # sorted eigenvalues of $\\tilde{X}^T\\tilde{X}$\n",
    "    l_min, l_max = eigen_values[0], eigen_values[-1]\n",
    "    l_min_n, l_max_n = eigen_values_n[1], eigen_values_n[-1]\n",
    "\n",
    "\n",
    "    if l_min_n / l_max_n > l_min / l_max:\n",
    "        good += 1\n",
    "    else:\n",
    "        bad += 1\n",
    "\n",
    "print(f'Normaliztion helped in {good} cases out of {N_iterations}')\n",
    "print(f'Normaliztion did not help in {bad} cases out of {N_iterations}')"
   ]
  },
  {
   "cell_type": "markdown",
   "metadata": {},
   "source": [
    "As we can see, even when we generate data according to our problem statement we can get both cases: where normalization speeds-up the convergence and where it slows it down. "
   ]
  },
  {
   "cell_type": "markdown",
   "metadata": {},
   "source": [
    "One last experiment we should do is try to fit both our models on the \"bad\" $X$:"
   ]
  },
  {
   "cell_type": "markdown",
   "metadata": {},
   "source": [
    "First we catch the \"bad\" case:"
   ]
  },
  {
   "cell_type": "code",
   "execution_count": 69,
   "metadata": {},
   "outputs": [
    {
     "name": "stderr",
     "output_type": "stream",
     "text": [
      "100%|██████████| 300/300 [04:02<00:00,  1.23it/s]"
     ]
    },
    {
     "name": "stdout",
     "output_type": "stream",
     "text": [
      "0.002791874813348083\n"
     ]
    },
    {
     "name": "stderr",
     "output_type": "stream",
     "text": [
      "\n"
     ]
    }
   ],
   "source": [
    "best_sc = 0\n",
    "for it in tqdm(range(N_iterations)):\n",
    "    X, y, __ = generate_data(-0.05, 4, 0.8, n=p, size=n)\n",
    "    X_n = (X - X.mean(axis=-1)[:, None]) / X.std(axis=-1)[:, None]\n",
    "    eigen_values = np.sort(np.linalg.eig(X.T @ X)[0]) # sorted eigenvalues of X^TX\n",
    "    eigen_values_n = np.sort(np.linalg.eig(X_n.T @ X_n)[0]) # sorted eigenvalues of $\\tilde{X}^T\\tilde{X}$\n",
    "    l_min, l_max = eigen_values[0], eigen_values[-1]\n",
    "    l_min_n, l_max_n = eigen_values_n[1], eigen_values_n[-1]\n",
    "\n",
    "\n",
    "    if l_min / l_max - l_min_n / l_max_n > best_sc:\n",
    "        best_sc = l_min / l_max - l_min_n / l_max_n\n",
    "        X_bad = X\n",
    "        y_bad = y\n",
    "\n",
    "print(best_sc)"
   ]
  },
  {
   "cell_type": "markdown",
   "metadata": {},
   "source": [
    "Next we fit our models: (we plot only training curves and zoom in on first 10 epochs)"
   ]
  },
  {
   "cell_type": "code",
   "execution_count": 71,
   "metadata": {},
   "outputs": [
    {
     "name": "stderr",
     "output_type": "stream",
     "text": [
      "  1%|\u001b[36m          \u001b[0m| 1/100 [00:01<01:57,  1.18s/it]"
     ]
    },
    {
     "name": "stdout",
     "output_type": "stream",
     "text": [
      "LOSS: train 86970.233865, validation 86981.85658482143\n"
     ]
    },
    {
     "name": "stderr",
     "output_type": "stream",
     "text": [
      " 11%|\u001b[36m█         \u001b[0m| 11/100 [00:12<01:42,  1.15s/it]"
     ]
    },
    {
     "name": "stdout",
     "output_type": "stream",
     "text": [
      "LOSS: train 86968.2585225, validation 86981.68327487246\n"
     ]
    },
    {
     "name": "stderr",
     "output_type": "stream",
     "text": [
      " 13%|\u001b[36m█▎        \u001b[0m| 13/100 [00:16<01:48,  1.25s/it]\n"
     ]
    },
    {
     "name": "stdout",
     "output_type": "stream",
     "text": [
      "Switching models\n"
     ]
    },
    {
     "name": "stderr",
     "output_type": "stream",
     "text": [
      "  1%|\u001b[36m          \u001b[0m| 1/100 [00:01<01:58,  1.20s/it]"
     ]
    },
    {
     "name": "stdout",
     "output_type": "stream",
     "text": [
      "LOSS: train 86967.16453, validation 86981.46516262754\n"
     ]
    },
    {
     "name": "stderr",
     "output_type": "stream",
     "text": [
      " 11%|\u001b[36m█         \u001b[0m| 11/100 [00:12<01:43,  1.16s/it]"
     ]
    },
    {
     "name": "stdout",
     "output_type": "stream",
     "text": [
      "LOSS: train 86966.2365675, validation 86980.95902423469\n"
     ]
    },
    {
     "name": "stderr",
     "output_type": "stream",
     "text": [
      " 14%|\u001b[36m█▍        \u001b[0m| 14/100 [00:17<01:47,  1.25s/it]\n"
     ]
    },
    {
     "data": {
      "text/plain": [
       "<matplotlib.legend.Legend at 0x175ad72b0>"
      ]
     },
     "execution_count": 71,
     "metadata": {},
     "output_type": "execute_result"
    },
    {
     "data": {
      "image/png": "[encoded data removed]",
      "text/plain": [
       "<Figure size 640x480 with 1 Axes>"
      ]
     },
     "metadata": {},
     "output_type": "display_data"
    }
   ],
   "source": [
    "train_dataset = Data(X_bad, y_bad)\n",
    "\n",
    "train_dataloader = DataLoader(train_dataset, batch_size=1024)\n",
    "test_dataloader = DataLoader(train_dataset, batch_size=1024)\n",
    "\n",
    "model_base = nn.Sequential(\n",
    "nn.Linear(DIM, 1)\n",
    ")\n",
    "\n",
    "model_norm = nn.Sequential(\n",
    "    nn.LayerNorm(DIM, elementwise_affine=False),\n",
    "    nn.Linear(DIM, 1)\n",
    ")\n",
    "\n",
    "optimizer = SGD(model_base.parameters(), lr=3e-3)\n",
    "tr, tst = train(model_base, train_dataloader, test_dataloader, nn.MSELoss(), optimizer, n_epochs=100)\n",
    "\n",
    "print('Switching models')\n",
    "\n",
    "optimizer_n = SGD(model_norm.parameters(), lr=3e-3)\n",
    "tr_n, tst_n = train(model_norm, train_dataloader, test_dataloader, nn.MSELoss(), optimizer_n, n_epochs=100)\n",
    "\n",
    "plt.plot(tr_n[:10], label='train_w_layer_norm')\n",
    "plt.plot(tr[:10], label='train_wo_norm')\n",
    "plt.xlabel(\"Epochs\")\n",
    "plt.ylabel(\"MSE\")\n",
    "plt.title(f\"Bad case, $\\sigma$=4, m=-0.05\")\n",
    "plt.legend()"
   ]
  },
  {
   "cell_type": "markdown",
   "metadata": {},
   "source": [
    "### Conclusion \n",
    "We were able to study the effect of adding layer normalization for different regimes of $\\sigma$ and $m$. The best effect is achived for small values of $\\sigma$. We've shown that normalization makes our Hessian singular. With further experiments we've shown that normalization can both speed-up and slow down the convergence of gradient descent for the quadratic problem in general case and for our problem."
   ]
  },
  {
   "cell_type": "markdown",
   "metadata": {},
   "source": []
  }
 ],
 "metadata": {
  "kernelspec": {
   "display_name": "Python 3 (ipykernel)",
   "language": "python",
   "name": "python3"
  },
  "language_info": {
   "codemirror_mode": {
    "name": "ipython",
    "version": 3
   },
   "file_extension": ".py",
   "mimetype": "text/x-python",
   "name": "python",
   "nbconvert_exporter": "python",
   "pygments_lexer": "ipython3",
   "version": "3.11.5"
  }
 },
 "nbformat": 4,
 "nbformat_minor": 2
}
